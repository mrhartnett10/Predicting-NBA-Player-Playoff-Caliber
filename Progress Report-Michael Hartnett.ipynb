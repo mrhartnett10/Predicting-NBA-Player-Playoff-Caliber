{
 "cells": [
  {
   "cell_type": "markdown",
   "metadata": {},
   "source": [
    "### Progress Report: Capstone"
   ]
  },
  {
   "cell_type": "markdown",
   "metadata": {},
   "source": [
    "Problem Statement: Using data (player statistics) and unsupervised modeling from the past (40ish still tbd) years) of NBA championship teams, can I construct a championship winning team with today's pool of players?"
   ]
  },
  {
   "cell_type": "markdown",
   "metadata": {},
   "source": [
    "Problem Solving Methods:\n",
    "\n",
    "I will mainly use clustering and unsupervised modeling techniques to create clusters of players based on their recorded statstics. Currently the idea is to seperate into pools of stars (players who play above 35 min), role players (15-35) and bench players (less than 15). Then with these different sets will use KMeans (seems to be most successful) to cluster as well by position to determine the trending statistics required to be on a championship level winning team. I also plan on using PCA to help analzye the new data to see where the current players map against the targeted clusters.\n",
    "    "
   ]
  },
  {
   "cell_type": "markdown",
   "metadata": {},
   "source": [
    "Data Source: https://www.basketball-reference.com/ (scraping)"
   ]
  },
  {
   "cell_type": "markdown",
   "metadata": {},
   "source": [
    "1. Data:\n",
    "\n",
    "Data scarping is all set for the championship players. I was able to scrape 3 seperate tables for all of the rosters of championship winning teams over the past 40 years. I was then able to merge the basic statistics with the correct corresponding advanced statistics along with the correction position of the player. All that remains for data is scraping for the current players, but I should be able to use essentially the same scraping methods so do not anticipate any road blocks. (I will possibly tweak which data features I elect to use but am comfortable with the scraping process thus far)."
   ]
  },
  {
   "cell_type": "markdown",
   "metadata": {},
   "source": [
    "2. EDA:\n",
    "\n",
    "Completed very surface level EDA, I have decided through histograms what level of star minutes I will set the benchmark at. And have examined the most compounding statistic (Player Efficiency) through histograms as well. I also decided to perform a correlation heat map out of curiosity but not totally sure if it will be required/relevant. I would like to expand more on EDA through creating subsets based on the above minutes per game categroy but have performed some groupby's based on position for star players. Since I am focusing mainly on unsupervised modeling I anticipate additional EDA bulk will be explored during my modeling phase.\n",
    "    "
   ]
  },
  {
   "cell_type": "markdown",
   "metadata": {},
   "source": [
    "3. Modeling:\n",
    "\n",
    "Modeling so far I have tried KMeans and DBSCAN and think that KMeans will be more applicable since it will allow me to create my own number of clusters, also considering the proxmity of many of the data points dbscan has resulted less effectively. I have seen some interesting surface level findings from KMeans in that some the stastics seem to trend into Big Men vs More Skilled PG/SG (smaller positions), but would like to perform modeling again based on position and defined minutes per game categories (stars, role, bench). \n",
    "\n",
    "Next steps will be to also utilize PCA to see where some of the current players map against the observations of the championship players. I am hoping during this process I will be able to visually see if players qualify similarly enough to be considered \"championship\" based on the same metrics. "
   ]
  },
  {
   "cell_type": "markdown",
   "metadata": {},
   "source": [
    "4. Blockers:\n",
    "\n",
    "The only blockers I am anticipating at the moment is truly defining how to make sure I am able to use the the discovered clusters and map them onto the current players, but again I am hoping with PCA this may become clearer. Essentially how to utilize the discovered clusters and unsupervised learning and apply it to the new data (the current players)."
   ]
  },
  {
   "cell_type": "markdown",
   "metadata": {},
   "source": [
    "5. Topic Changes?:\n",
    "\n",
    "Problem statement has remained the same, not much deviation as of yet. I have a belief that I should be able to continue on the path that I am to reach the answer to the problem statement, and have spent most of the past few days trying to visualize and conceptualize how I will want to appropriately answer the question, so far I have a few ideas."
   ]
  },
  {
   "cell_type": "markdown",
   "metadata": {},
   "source": [
    "6. Timeline:\n",
    "\n",
    "So far I think I am moving along nicely, but want to make sure that by the this weekened/midweek I will have a more concrete plan in mind to make sure I am truly able to answer my problem statement. Once I am confident in that, I would like to perform different layers (salary cap restrictions) to make the scenario and problem more interesting."
   ]
  },
  {
   "cell_type": "markdown",
   "metadata": {},
   "source": [
    "7. Topics to Discuss:\n",
    "\n",
    "I was hoping to just get feedback on whether or not instructors believe my plan of attack makes sense in terms of applying my modeling (clusters and PCA) methods to the current players. I would also be curious to know if they might have any other ideas of how to approach the problem statement or things I might be overlooking."
   ]
  },
  {
   "cell_type": "code",
   "execution_count": null,
   "metadata": {},
   "outputs": [],
   "source": []
  }
 ],
 "metadata": {
  "kernelspec": {
   "display_name": "Python 3",
   "language": "python",
   "name": "python3"
  },
  "language_info": {
   "codemirror_mode": {
    "name": "ipython",
    "version": 3
   },
   "file_extension": ".py",
   "mimetype": "text/x-python",
   "name": "python",
   "nbconvert_exporter": "python",
   "pygments_lexer": "ipython3",
   "version": "3.8.5"
  }
 },
 "nbformat": 4,
 "nbformat_minor": 4
}
