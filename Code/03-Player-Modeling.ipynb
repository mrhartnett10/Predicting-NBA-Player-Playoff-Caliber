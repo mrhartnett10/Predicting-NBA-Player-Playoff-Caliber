{
 "cells": [
  {
   "cell_type": "markdown",
   "metadata": {},
   "source": [
    "**Library Imports:**"
   ]
  },
  {
   "cell_type": "code",
   "execution_count": 1,
   "metadata": {},
   "outputs": [],
   "source": [
    "import pandas as pd\n",
    "import numpy as np\n",
    "import matplotlib.pyplot as plt\n",
    "\n",
    "from sklearn.linear_model import LogisticRegression, LogisticRegressionCV, Ridge, RidgeCV, Lasso, LassoCV\n",
    "from sklearn.model_selection import train_test_split, GridSearchCV\n",
    "from sklearn.preprocessing import StandardScaler\n",
    "from sklearn.ensemble import RandomForestClassifier, BaggingClassifier\n",
    "from sklearn import svm\n",
    "from sklearn.neighbors import KNeighborsClassifier\n",
    "from sklearn.pipeline import Pipeline\n",
    "from sklearn import metrics as metrics"
   ]
  },
  {
   "cell_type": "markdown",
   "metadata": {},
   "source": [
    "**Read in the data:**"
   ]
  },
  {
   "cell_type": "code",
   "execution_count": 2,
   "metadata": {},
   "outputs": [],
   "source": [
    "major_players_2021 = pd.read_csv('../data/major_players_2021.csv', index_col=0)\n",
    "major_players_all = pd.read_csv('../data/major_players_all.csv', index_col=0)\n",
    "core_players_2021 = pd.read_csv('../data/core_players_2021.csv', index_col=0)\n",
    "core_players_all = pd.read_csv('../data/core_players_all.csv', index_col=0)\n",
    "rotational_players_2021 = pd.read_csv('../data/rotational_players_2021.csv', index_col=0)\n",
    "rotational_players_all = pd.read_csv('../data/rotational_players_all.csv', index_col=0)\n",
    "reserve_players_2021 = pd.read_csv('../data/reserve_players_2021.csv', index_col=0)\n",
    "reserve_players_all = pd.read_csv('../data/reserve_players_all.csv', index_col=0)"
   ]
  },
  {
   "cell_type": "code",
   "execution_count": 3,
   "metadata": {},
   "outputs": [],
   "source": [
    "#fill any NA's with 0s from data imports:\n",
    "major_players_2021.fillna(0, inplace=True)\n",
    "major_players_all.fillna(0, inplace=True)\n",
    "core_players_2021.fillna(0, inplace=True)\n",
    "core_players_all.fillna(0, inplace=True)\n",
    "rotational_players_2021.fillna(0, inplace=True)\n",
    "rotational_players_all.fillna(0, inplace=True)\n",
    "reserve_players_2021.fillna(0, inplace=True)\n",
    "reserve_players_all.fillna(0, inplace=True)"
   ]
  },
  {
   "cell_type": "markdown",
   "metadata": {},
   "source": [
    "### Modeling"
   ]
  },
  {
   "cell_type": "markdown",
   "metadata": {},
   "source": [
    "I figured given the data and the what we've gleamed through EDA the most sensible way to analyze our team will be through creating classification models. These models should be able to to determine whether or not a player for their respective tier is performing at a playoff caliber level. As we have addressed, playoff caliber is determined through the 30 years of previous data and comparing a players performance to whether or not their team made the playoffs that year. The theory is that players who perform at higher statistical levels are more likely to be present on playoff teams and we will be able to use this as an analysis and predict our current roster at this half way point to show if they are \"playoff caliber\" at this stage of the season.\n",
    "\n",
    "I utilized a gambit of classification models but seemed to settle in on two types that provided the highest accuracy scores. LogisticRegressionCV and SVM Classifier yielded the best results which can be highlighted below: "
   ]
  },
  {
   "cell_type": "markdown",
   "metadata": {},
   "source": [
    "## Major Players Model"
   ]
  },
  {
   "cell_type": "markdown",
   "metadata": {},
   "source": [
    "Since we have different tiers, we will want to make sure we have 4 specific models for each tier. Based on our EDA we should anticipate performance differences across each tier, but hopefully the most important tiers (major + core players) perform at a high enough level."
   ]
  },
  {
   "cell_type": "code",
   "execution_count": 19,
   "metadata": {},
   "outputs": [
    {
     "data": {
      "text/html": [
       "<div>\n",
       "<style scoped>\n",
       "    .dataframe tbody tr th:only-of-type {\n",
       "        vertical-align: middle;\n",
       "    }\n",
       "\n",
       "    .dataframe tbody tr th {\n",
       "        vertical-align: top;\n",
       "    }\n",
       "\n",
       "    .dataframe thead th {\n",
       "        text-align: right;\n",
       "    }\n",
       "</style>\n",
       "<table border=\"1\" class=\"dataframe\">\n",
       "  <thead>\n",
       "    <tr style=\"text-align: right;\">\n",
       "      <th></th>\n",
       "      <th>name</th>\n",
       "      <th>team</th>\n",
       "      <th>year</th>\n",
       "      <th>games_played</th>\n",
       "      <th>mpg</th>\n",
       "      <th>fg%</th>\n",
       "      <th>3pfg%</th>\n",
       "      <th>rebounds</th>\n",
       "      <th>assists</th>\n",
       "      <th>steals</th>\n",
       "      <th>blocks</th>\n",
       "      <th>points_per_game</th>\n",
       "      <th>position</th>\n",
       "      <th>player_efficiency</th>\n",
       "      <th>true_shooting</th>\n",
       "      <th>plus_minus</th>\n",
       "      <th>win_shares_percentage</th>\n",
       "    </tr>\n",
       "  </thead>\n",
       "  <tbody>\n",
       "    <tr>\n",
       "      <th>3</th>\n",
       "      <td>Bam Adebayo</td>\n",
       "      <td>MIA</td>\n",
       "      <td>2021</td>\n",
       "      <td>33</td>\n",
       "      <td>33.9</td>\n",
       "      <td>0.563</td>\n",
       "      <td>0.333</td>\n",
       "      <td>9.5</td>\n",
       "      <td>5.4</td>\n",
       "      <td>0.9</td>\n",
       "      <td>1.0</td>\n",
       "      <td>19.2</td>\n",
       "      <td>C</td>\n",
       "      <td>22.0</td>\n",
       "      <td>0.631</td>\n",
       "      <td>4.4</td>\n",
       "      <td>0.193</td>\n",
       "    </tr>\n",
       "    <tr>\n",
       "      <th>11</th>\n",
       "      <td>Giannis Antetokounmpo</td>\n",
       "      <td>MIL</td>\n",
       "      <td>2021</td>\n",
       "      <td>36</td>\n",
       "      <td>33.8</td>\n",
       "      <td>0.559</td>\n",
       "      <td>0.290</td>\n",
       "      <td>11.6</td>\n",
       "      <td>6.0</td>\n",
       "      <td>1.3</td>\n",
       "      <td>1.4</td>\n",
       "      <td>28.9</td>\n",
       "      <td>PF</td>\n",
       "      <td>29.2</td>\n",
       "      <td>0.622</td>\n",
       "      <td>8.4</td>\n",
       "      <td>0.241</td>\n",
       "    </tr>\n",
       "  </tbody>\n",
       "</table>\n",
       "</div>"
      ],
      "text/plain": [
       "                     name team  year  games_played   mpg    fg%  3pfg%  \\\n",
       "3             Bam Adebayo  MIA  2021            33  33.9  0.563  0.333   \n",
       "11  Giannis Antetokounmpo  MIL  2021            36  33.8  0.559  0.290   \n",
       "\n",
       "    rebounds  assists  steals  blocks  points_per_game position  \\\n",
       "3        9.5      5.4     0.9     1.0             19.2        C   \n",
       "11      11.6      6.0     1.3     1.4             28.9       PF   \n",
       "\n",
       "    player_efficiency  true_shooting  plus_minus  win_shares_percentage  \n",
       "3                22.0          0.631         4.4                  0.193  \n",
       "11               29.2          0.622         8.4                  0.241  "
      ]
     },
     "execution_count": 19,
     "metadata": {},
     "output_type": "execute_result"
    }
   ],
   "source": [
    "#.head() to check on our feature columns \n",
    "major_players_2021.head(2)"
   ]
  },
  {
   "cell_type": "code",
   "execution_count": 20,
   "metadata": {},
   "outputs": [],
   "source": [
    "#setting our interested feature variables:\n",
    "features = major_players_2021.drop(columns = ['name', 'team', 'year', 'games_played', 'mpg', 'position']).columns"
   ]
  },
  {
   "cell_type": "code",
   "execution_count": 21,
   "metadata": {},
   "outputs": [],
   "source": [
    "#train-test splitting for our major players all:\n",
    "X = major_players_all[features]\n",
    "y = major_players_all.in_playoff\n",
    "\n",
    "#we can use statify to ensure that our samples contain similar percentages of playoff classes:\n",
    "X_train, X_test, y_train, y_test = train_test_split(X, y, random_state = 23, stratify = y) "
   ]
  },
  {
   "cell_type": "code",
   "execution_count": 22,
   "metadata": {},
   "outputs": [],
   "source": [
    "#scaling our data:\n",
    "ss = StandardScaler()\n",
    "X_train_sc = ss.fit_transform(X_train)\n",
    "X_test_sc = ss.transform(X_test)"
   ]
  },
  {
   "cell_type": "code",
   "execution_count": 23,
   "metadata": {},
   "outputs": [
    {
     "name": "stdout",
     "output_type": "stream",
     "text": [
      "1    0.536538\n",
      "0    0.463462\n",
      "Name: in_playoff, dtype: float64\n",
      "1    0.536596\n",
      "0    0.463404\n",
      "Name: in_playoff, dtype: float64\n",
      "1    0.536364\n",
      "0    0.463636\n",
      "Name: in_playoff, dtype: float64\n"
     ]
    }
   ],
   "source": [
    "#checking our baselines:\n",
    "print(y.value_counts(normalize=True))\n",
    "print(y_train.value_counts(normalize=True))\n",
    "print(y_test.value_counts(normalize=True))"
   ]
  },
  {
   "cell_type": "markdown",
   "metadata": {},
   "source": [
    "### LogisticRegressionCV"
   ]
  },
  {
   "cell_type": "markdown",
   "metadata": {},
   "source": [
    "I decided to first try out Gridsearching on LogisticRegression:"
   ]
  },
  {
   "cell_type": "code",
   "execution_count": 24,
   "metadata": {},
   "outputs": [
    {
     "name": "stdout",
     "output_type": "stream",
     "text": [
      "Fitting 5 folds for each of 108 candidates, totalling 540 fits\n"
     ]
    },
    {
     "name": "stderr",
     "output_type": "stream",
     "text": [
      "[Parallel(n_jobs=-1)]: Using backend LokyBackend with 8 concurrent workers.\n",
      "[Parallel(n_jobs=-1)]: Done  34 tasks      | elapsed:    2.5s\n",
      "[Parallel(n_jobs=-1)]: Done 540 out of 540 | elapsed:   10.9s finished\n"
     ]
    },
    {
     "data": {
      "text/plain": [
       "{'Cs': 4, 'penalty': 'l2', 'solver': 'lbfgs'}"
      ]
     },
     "execution_count": 24,
     "metadata": {},
     "output_type": "execute_result"
    }
   ],
   "source": [
    "logreg_cv = LogisticRegressionCV()\n",
    "Cs_range = np.arange(1,10)\n",
    "params = {\n",
    "    'Cs': Cs_range,\n",
    "    'penalty' :['l1', 'l2', 'elasticnet'],\n",
    "    'solver': ['lbfgs', 'liblinear', 'sag', 'saga']}\n",
    "log_gs = GridSearchCV(logreg_cv, param_grid=params, cv=5,\n",
    "                   scoring = 'accuracy', n_jobs = -1,\n",
    "                   verbose = 1)\n",
    "\n",
    "log_gs.fit(X_train_sc, y_train)\n",
    "log_gs.best_params_"
   ]
  },
  {
   "cell_type": "code",
   "execution_count": 25,
   "metadata": {},
   "outputs": [
    {
     "name": "stdout",
     "output_type": "stream",
     "text": [
      "X_train accuracy: 0.7960155911650065\n",
      "X_test accuracy: 0.8103896103896104\n"
     ]
    }
   ],
   "source": [
    "print('X_train accuracy:', log_gs.score(X_train_sc, y_train))\n",
    "print('X_test accuracy:', log_gs.score(X_test_sc, y_test))"
   ]
  },
  {
   "cell_type": "code",
   "execution_count": 81,
   "metadata": {},
   "outputs": [
    {
     "name": "stdout",
     "output_type": "stream",
     "text": [
      "accuracy: 0.8103896103896104\n",
      "specificity: 0.7899159663865546\n",
      "sensitivity: 0.8280871670702179\n",
      "precision: 0.8201438848920863\n"
     ]
    },
    {
     "data": {
      "image/png": "[encoded data removed]",
      "text/plain": [
       "<Figure size 432x288 with 2 Axes>"
      ]
     },
     "metadata": {
      "needs_background": "light"
     },
     "output_type": "display_data"
    }
   ],
   "source": [
    "metrics.plot_confusion_matrix(log_gs, X_test_sc, y_test, cmap='Blues', \n",
    "                      values_format='d', display_labels=['not_playoff_caliber', 'playoff_caliber'])\n",
    "plt.title('Major Players Confusion Matrix (LogReg Model)')\n",
    "\n",
    "log_preds = log_gs.predict(X_test_sc)\n",
    "tn, fp, fn, tp = metrics.confusion_matrix(y_test, log_preds).ravel()\n",
    "accuracy = (tn + tp)/ (tn + fp + fn+ tp)\n",
    "specificity = tn / (tn + fp)\n",
    "sensitivity = tp / (tp + fn)\n",
    "precision = tp / (tp + fp)\n",
    "\n",
    "print('accuracy:', accuracy)\n",
    "print('specificity:', specificity)\n",
    "print('sensitivity:', sensitivity)\n",
    "print('precision:', precision)"
   ]
  },
  {
   "cell_type": "code",
   "execution_count": 82,
   "metadata": {},
   "outputs": [
    {
     "data": {
      "image/png": "[encoded data removed]",
      "text/plain": [
       "<Figure size 432x288 with 1 Axes>"
      ]
     },
     "metadata": {
      "needs_background": "light"
     },
     "output_type": "display_data"
    }
   ],
   "source": [
    "metrics.plot_roc_curve(log_gs, X_test_sc, y_test)\n",
    "plt.plot([0, 1], [0, 1])\n",
    "plt.title('Major Players ROC Curve (LogReg Model)');"
   ]
  },
  {
   "cell_type": "markdown",
   "metadata": {},
   "source": [
    "**Results:** A pretty solid first pass with our LogisticRegression modeling. We can see that our test set performed at an 81% accuracy score which is roughly 28% points higher than our baseline. While we still run into some degrees of misclassification, we can see from our confusion matrix that we still capture quite a large percentage of correct classes. We also see a respectable ROC Curve showing AUC of 0.88 (closest to 1 is best) so we know there are separations in our population classes. Let's see if we can imporve at all with SVM modeling"
   ]
  },
  {
   "cell_type": "markdown",
   "metadata": {},
   "source": [
    "### SVM"
   ]
  },
  {
   "cell_type": "code",
   "execution_count": 29,
   "metadata": {},
   "outputs": [
    {
     "name": "stdout",
     "output_type": "stream",
     "text": [
      "Fitting 5 folds for each of 600 candidates, totalling 3000 fits\n"
     ]
    },
    {
     "name": "stderr",
     "output_type": "stream",
     "text": [
      "[Parallel(n_jobs=-1)]: Using backend LokyBackend with 8 concurrent workers.\n",
      "[Parallel(n_jobs=-1)]: Done  52 tasks      | elapsed:    1.3s\n",
      "[Parallel(n_jobs=-1)]: Done 352 tasks      | elapsed:    8.5s\n",
      "[Parallel(n_jobs=-1)]: Done 852 tasks      | elapsed:   20.5s\n",
      "[Parallel(n_jobs=-1)]: Done 1552 tasks      | elapsed:   35.6s\n",
      "[Parallel(n_jobs=-1)]: Done 2452 tasks      | elapsed:  1.0min\n",
      "[Parallel(n_jobs=-1)]: Done 3000 out of 3000 | elapsed:  2.2min finished\n"
     ]
    },
    {
     "data": {
      "text/plain": [
       "{'C': 27.825594022071257, 'gamma': 0.02069138081114788, 'kernel': 'rbf'}"
      ]
     },
     "execution_count": 29,
     "metadata": {},
     "output_type": "execute_result"
    }
   ],
   "source": [
    "clf = svm.SVC()\n",
    "gamma_range = np.logspace(-5, 2, 20)\n",
    "C_range = np.logspace(-3, 2, 10)\n",
    "kernel_range = ['rbf', 'sigmoid', 'linear']\n",
    "param_grid = dict(gamma = gamma_range, C = C_range, kernel=kernel_range)\n",
    "\n",
    "sv_grid = GridSearchCV(clf, param_grid, cv=5,\n",
    "                   scoring = 'accuracy', n_jobs = -1,\n",
    "                   verbose = 1)\n",
    "\n",
    "sv_grid.fit(X_train_sc, y_train)\n",
    "sv_grid.best_params_"
   ]
  },
  {
   "cell_type": "code",
   "execution_count": 30,
   "metadata": {},
   "outputs": [
    {
     "name": "stdout",
     "output_type": "stream",
     "text": [
      "X_train accuracy: 0.8263317453443049\n",
      "X_test accuracy: 0.812987012987013\n"
     ]
    }
   ],
   "source": [
    "print('X_train accuracy:', sv_grid.score(X_train_sc, y_train))\n",
    "print('X_test accuracy:', sv_grid.score(X_test_sc, y_test))"
   ]
  },
  {
   "cell_type": "code",
   "execution_count": 80,
   "metadata": {},
   "outputs": [
    {
     "name": "stdout",
     "output_type": "stream",
     "text": [
      "accuracy: 0.812987012987013\n",
      "specificity: 0.7983193277310925\n",
      "sensitivity: 0.8256658595641646\n",
      "precision: 0.8256658595641646\n"
     ]
    },
    {
     "data": {
      "image/png": "[encoded data removed]",
      "text/plain": [
       "<Figure size 432x288 with 2 Axes>"
      ]
     },
     "metadata": {
      "needs_background": "light"
     },
     "output_type": "display_data"
    }
   ],
   "source": [
    "metrics.plot_confusion_matrix(sv_grid, X_test_sc, y_test, cmap='Blues', \n",
    "                      values_format='d', display_labels=['not_playoff_caliber', 'playoff_caliber'])\n",
    "plt.title('Major Players Confusion Matrix (SVM Model)')\n",
    "\n",
    "svm_preds = sv_grid.predict(X_test_sc)\n",
    "tn, fp, fn, tp = metrics.confusion_matrix(y_test, svm_preds).ravel()\n",
    "accuracy = (tn + tp)/ (tn + fp + fn+ tp)\n",
    "specificity = tn / (tn + fp)\n",
    "sensitivity = tp / (tp + fn)\n",
    "precision = tp / (tp + fp)\n",
    "\n",
    "print('accuracy:', accuracy)\n",
    "print('specificity:', specificity)\n",
    "print('sensitivity:', sensitivity)\n",
    "print('precision:', precision)"
   ]
  },
  {
   "cell_type": "code",
   "execution_count": 78,
   "metadata": {},
   "outputs": [
    {
     "data": {
      "image/png": "[encoded data removed]",
      "text/plain": [
       "<Figure size 432x288 with 1 Axes>"
      ]
     },
     "metadata": {
      "needs_background": "light"
     },
     "output_type": "display_data"
    }
   ],
   "source": [
    "metrics.plot_roc_curve(sv_grid, X_test_sc, y_test)\n",
    "plt.plot([0, 1], [0, 1]);"
   ]
  },
  {
   "cell_type": "markdown",
   "metadata": {},
   "source": [
    "**Results:** We were able to improve upon our original model, while it may not be a monumnetal improvement, any sort of overall increase in accuracy that doesn't jeopardize the integrity of the model by overfitting is always a win. We also have a similar shaped ROC curve so should feel comfortable with using SVM model. So for our major players for 2021 we can use our SVM model to generate predictions and save that as a \"is_playoff_caliber\" variable."
   ]
  },
  {
   "cell_type": "markdown",
   "metadata": {},
   "source": [
    "**Major Player Predictions Using SVM Model:**"
   ]
  },
  {
   "cell_type": "code",
   "execution_count": 32,
   "metadata": {},
   "outputs": [
    {
     "data": {
      "text/html": [
       "<div>\n",
       "<style scoped>\n",
       "    .dataframe tbody tr th:only-of-type {\n",
       "        vertical-align: middle;\n",
       "    }\n",
       "\n",
       "    .dataframe tbody tr th {\n",
       "        vertical-align: top;\n",
       "    }\n",
       "\n",
       "    .dataframe thead th {\n",
       "        text-align: right;\n",
       "    }\n",
       "</style>\n",
       "<table border=\"1\" class=\"dataframe\">\n",
       "  <thead>\n",
       "    <tr style=\"text-align: right;\">\n",
       "      <th></th>\n",
       "      <th>name</th>\n",
       "      <th>team</th>\n",
       "      <th>year</th>\n",
       "      <th>games_played</th>\n",
       "      <th>mpg</th>\n",
       "      <th>fg%</th>\n",
       "      <th>3pfg%</th>\n",
       "      <th>rebounds</th>\n",
       "      <th>assists</th>\n",
       "      <th>steals</th>\n",
       "      <th>blocks</th>\n",
       "      <th>points_per_game</th>\n",
       "      <th>position</th>\n",
       "      <th>player_efficiency</th>\n",
       "      <th>true_shooting</th>\n",
       "      <th>plus_minus</th>\n",
       "      <th>win_shares_percentage</th>\n",
       "      <th>is_playoff_caliber</th>\n",
       "    </tr>\n",
       "  </thead>\n",
       "  <tbody>\n",
       "    <tr>\n",
       "      <th>3</th>\n",
       "      <td>Bam Adebayo</td>\n",
       "      <td>MIA</td>\n",
       "      <td>2021</td>\n",
       "      <td>33</td>\n",
       "      <td>33.9</td>\n",
       "      <td>0.563</td>\n",
       "      <td>0.333</td>\n",
       "      <td>9.5</td>\n",
       "      <td>5.4</td>\n",
       "      <td>0.9</td>\n",
       "      <td>1.0</td>\n",
       "      <td>19.2</td>\n",
       "      <td>C</td>\n",
       "      <td>22.0</td>\n",
       "      <td>0.631</td>\n",
       "      <td>4.4</td>\n",
       "      <td>0.193</td>\n",
       "      <td>1</td>\n",
       "    </tr>\n",
       "    <tr>\n",
       "      <th>11</th>\n",
       "      <td>Giannis Antetokounmpo</td>\n",
       "      <td>MIL</td>\n",
       "      <td>2021</td>\n",
       "      <td>36</td>\n",
       "      <td>33.8</td>\n",
       "      <td>0.559</td>\n",
       "      <td>0.290</td>\n",
       "      <td>11.6</td>\n",
       "      <td>6.0</td>\n",
       "      <td>1.3</td>\n",
       "      <td>1.4</td>\n",
       "      <td>28.9</td>\n",
       "      <td>PF</td>\n",
       "      <td>29.2</td>\n",
       "      <td>0.622</td>\n",
       "      <td>8.4</td>\n",
       "      <td>0.241</td>\n",
       "      <td>1</td>\n",
       "    </tr>\n",
       "    <tr>\n",
       "      <th>16</th>\n",
       "      <td>OG Anunoby</td>\n",
       "      <td>TOR</td>\n",
       "      <td>2021</td>\n",
       "      <td>23</td>\n",
       "      <td>33.4</td>\n",
       "      <td>0.479</td>\n",
       "      <td>0.395</td>\n",
       "      <td>5.7</td>\n",
       "      <td>1.7</td>\n",
       "      <td>1.6</td>\n",
       "      <td>0.7</td>\n",
       "      <td>13.8</td>\n",
       "      <td>SF</td>\n",
       "      <td>13.8</td>\n",
       "      <td>0.607</td>\n",
       "      <td>0.2</td>\n",
       "      <td>0.097</td>\n",
       "      <td>0</td>\n",
       "    </tr>\n",
       "    <tr>\n",
       "      <th>20</th>\n",
       "      <td>Deandre Ayton</td>\n",
       "      <td>PHO</td>\n",
       "      <td>2021</td>\n",
       "      <td>36</td>\n",
       "      <td>30.8</td>\n",
       "      <td>0.595</td>\n",
       "      <td>0.235</td>\n",
       "      <td>11.2</td>\n",
       "      <td>1.6</td>\n",
       "      <td>0.3</td>\n",
       "      <td>1.1</td>\n",
       "      <td>14.4</td>\n",
       "      <td>C</td>\n",
       "      <td>18.8</td>\n",
       "      <td>0.623</td>\n",
       "      <td>-0.4</td>\n",
       "      <td>0.172</td>\n",
       "      <td>1</td>\n",
       "    </tr>\n",
       "    <tr>\n",
       "      <th>25</th>\n",
       "      <td>Lonzo Ball</td>\n",
       "      <td>NOP</td>\n",
       "      <td>2021</td>\n",
       "      <td>34</td>\n",
       "      <td>31.6</td>\n",
       "      <td>0.423</td>\n",
       "      <td>0.385</td>\n",
       "      <td>4.1</td>\n",
       "      <td>5.1</td>\n",
       "      <td>1.3</td>\n",
       "      <td>0.6</td>\n",
       "      <td>14.4</td>\n",
       "      <td>PG</td>\n",
       "      <td>15.0</td>\n",
       "      <td>0.557</td>\n",
       "      <td>0.7</td>\n",
       "      <td>0.080</td>\n",
       "      <td>0</td>\n",
       "    </tr>\n",
       "  </tbody>\n",
       "</table>\n",
       "</div>"
      ],
      "text/plain": [
       "                     name team  year  games_played   mpg    fg%  3pfg%  \\\n",
       "3             Bam Adebayo  MIA  2021            33  33.9  0.563  0.333   \n",
       "11  Giannis Antetokounmpo  MIL  2021            36  33.8  0.559  0.290   \n",
       "16             OG Anunoby  TOR  2021            23  33.4  0.479  0.395   \n",
       "20          Deandre Ayton  PHO  2021            36  30.8  0.595  0.235   \n",
       "25             Lonzo Ball  NOP  2021            34  31.6  0.423  0.385   \n",
       "\n",
       "    rebounds  assists  steals  blocks  points_per_game position  \\\n",
       "3        9.5      5.4     0.9     1.0             19.2        C   \n",
       "11      11.6      6.0     1.3     1.4             28.9       PF   \n",
       "16       5.7      1.7     1.6     0.7             13.8       SF   \n",
       "20      11.2      1.6     0.3     1.1             14.4        C   \n",
       "25       4.1      5.1     1.3     0.6             14.4       PG   \n",
       "\n",
       "    player_efficiency  true_shooting  plus_minus  win_shares_percentage  \\\n",
       "3                22.0          0.631         4.4                  0.193   \n",
       "11               29.2          0.622         8.4                  0.241   \n",
       "16               13.8          0.607         0.2                  0.097   \n",
       "20               18.8          0.623        -0.4                  0.172   \n",
       "25               15.0          0.557         0.7                  0.080   \n",
       "\n",
       "    is_playoff_caliber  \n",
       "3                    1  \n",
       "11                   1  \n",
       "16                   0  \n",
       "20                   1  \n",
       "25                   0  "
      ]
     },
     "execution_count": 32,
     "metadata": {},
     "output_type": "execute_result"
    }
   ],
   "source": [
    "#scaling our 2021 data so it will align correctly with the model\n",
    "major_2021_sc = ss.fit_transform(major_players_2021[features])\n",
    "\n",
    "#creating the predictions variable for our 2021 data:\n",
    "preds_major = sv_grid.predict(major_2021_sc)\n",
    "\n",
    "#setting a column playoff caliber column:\n",
    "major_players_2021['is_playoff_caliber'] = preds_major\n",
    "\n",
    "#checking our new data\n",
    "major_players_2021.head()"
   ]
  },
  {
   "cell_type": "markdown",
   "metadata": {},
   "source": [
    "## Core Players"
   ]
  },
  {
   "cell_type": "markdown",
   "metadata": {},
   "source": [
    "Now let's do the same modeling format for our core players. Let's include our two successful models and run the same gridsearching to see if one model performs better than the other based on this different data set. It is possible different tiers may perform differently than others, so it's important to check at each level."
   ]
  },
  {
   "cell_type": "code",
   "execution_count": 33,
   "metadata": {},
   "outputs": [],
   "source": [
    "#First let's train test split our core players all\n",
    "X_core = core_players_all[features]\n",
    "y_core = core_players_all.in_playoff\n",
    "\n",
    "X_train_core, X_test_core, y_train_core, y_test_core = train_test_split(X_core, y_core, random_state = 23, stratify = y_core) "
   ]
  },
  {
   "cell_type": "code",
   "execution_count": 34,
   "metadata": {},
   "outputs": [],
   "source": [
    "#Scale our data:\n",
    "ss = StandardScaler()\n",
    "X_train_sc_core = ss.fit_transform(X_train_core)\n",
    "X_test_sc_core = ss.transform(X_test_core)"
   ]
  },
  {
   "cell_type": "code",
   "execution_count": 35,
   "metadata": {},
   "outputs": [
    {
     "name": "stdout",
     "output_type": "stream",
     "text": [
      "0    0.550317\n",
      "1    0.449683\n",
      "Name: in_playoff, dtype: float64\n",
      "0    0.550368\n",
      "1    0.449632\n",
      "Name: in_playoff, dtype: float64\n",
      "0    0.550165\n",
      "1    0.449835\n",
      "Name: in_playoff, dtype: float64\n"
     ]
    }
   ],
   "source": [
    "#checking our baselines:\n",
    "print(y_core.value_counts(normalize=True))\n",
    "print(y_train_core.value_counts(normalize=True))\n",
    "print(y_test_core.value_counts(normalize=True))"
   ]
  },
  {
   "cell_type": "markdown",
   "metadata": {},
   "source": [
    "### LogisticRegression"
   ]
  },
  {
   "cell_type": "code",
   "execution_count": 36,
   "metadata": {},
   "outputs": [
    {
     "name": "stdout",
     "output_type": "stream",
     "text": [
      "Fitting 5 folds for each of 108 candidates, totalling 540 fits\n"
     ]
    },
    {
     "name": "stderr",
     "output_type": "stream",
     "text": [
      "[Parallel(n_jobs=-1)]: Using backend LokyBackend with 8 concurrent workers.\n",
      "[Parallel(n_jobs=-1)]: Done  60 tasks      | elapsed:    0.2s\n",
      "[Parallel(n_jobs=-1)]: Done 540 out of 540 | elapsed:    8.1s finished\n"
     ]
    },
    {
     "name": "stdout",
     "output_type": "stream",
     "text": [
      "{'Cs': 6, 'penalty': 'l1', 'solver': 'liblinear'}\n"
     ]
    }
   ],
   "source": [
    "logreg_cv_core = LogisticRegressionCV()\n",
    "Cs_range = np.arange(1,10)\n",
    "params = {\n",
    "    'Cs': Cs_range,\n",
    "    'penalty' :['l1', 'l2', 'elasticnet'],\n",
    "    'solver': ['lbfgs', 'liblinear', 'sag', 'saga']}\n",
    "log_gs_core = GridSearchCV(logreg_cv_core, param_grid=params, cv=5,\n",
    "                   scoring = 'accuracy', n_jobs = -1,\n",
    "                   verbose = 1)\n",
    "\n",
    "log_gs_core.fit(X_train_sc_core, y_train_core)\n",
    "print(log_gs_core.best_params_)"
   ]
  },
  {
   "cell_type": "code",
   "execution_count": 37,
   "metadata": {},
   "outputs": [
    {
     "name": "stdout",
     "output_type": "stream",
     "text": [
      "X_train accuracy: 0.7849264705882353\n",
      "X_test accuracy: 0.7607497243660419\n"
     ]
    }
   ],
   "source": [
    "print('X_train accuracy:', log_gs_core.score(X_train_sc_core, y_train_core))\n",
    "print('X_test accuracy:', log_gs_core.score(X_test_sc_core, y_test_core))"
   ]
  },
  {
   "cell_type": "code",
   "execution_count": 83,
   "metadata": {},
   "outputs": [
    {
     "name": "stdout",
     "output_type": "stream",
     "text": [
      "accuracy: 0.7607497243660419\n",
      "specificity: 0.7975951903807615\n",
      "sensitivity: 0.7156862745098039\n",
      "precision: 0.7430025445292621\n"
     ]
    },
    {
     "data": {
      "image/png": "[encoded data removed]",
      "text/plain": [
       "<Figure size 432x288 with 2 Axes>"
      ]
     },
     "metadata": {
      "needs_background": "light"
     },
     "output_type": "display_data"
    }
   ],
   "source": [
    "metrics.plot_confusion_matrix(log_gs_core, X_test_sc_core, y_test_core, cmap='Blues', \n",
    "                      values_format='d', display_labels=['not_playoff_caliber', 'playoff_caliber'])\n",
    "plt.title('Core Players Confusion Matrix (LogReg Model)')\n",
    "\n",
    "log_core_preds = log_gs_core.predict(X_test_sc_core)\n",
    "tn, fp, fn, tp = metrics.confusion_matrix(y_test_core, log_core_preds).ravel()\n",
    "accuracy = (tn + tp)/ (tn + fp + fn+ tp)\n",
    "specificity = tn / (tn + fp)\n",
    "sensitivity = tp / (tp + fn)\n",
    "precision = tp / (tp + fp)\n",
    "\n",
    "print('accuracy:', accuracy)\n",
    "print('specificity:', specificity)\n",
    "print('sensitivity:', sensitivity)\n",
    "print('precision:', precision)"
   ]
  },
  {
   "cell_type": "code",
   "execution_count": 89,
   "metadata": {},
   "outputs": [
    {
     "data": {
      "image/png": "[encoded data removed]",
      "text/plain": [
       "<Figure size 432x288 with 1 Axes>"
      ]
     },
     "metadata": {
      "needs_background": "light"
     },
     "output_type": "display_data"
    }
   ],
   "source": [
    "metrics.plot_roc_curve(log_gs_core, X_test_sc_core, y_test_core)\n",
    "plt.plot([0, 1], [0, 1])\n",
    "plt.title('Core Players ROC Curve (LogReg Model)');"
   ]
  },
  {
   "cell_type": "markdown",
   "metadata": {},
   "source": [
    "**Results:** As we anticipated we saw a slight dropoff in performance with our models. We still observed an increase in accuracy of about 21% from our baseline, but it is understandable that our core players are harder predict since we saw through EDA the correlational relationship wasn't quite as strong with core players. This would make sense since in basketball, again albeit a team sport, it is often noted that teams will only go so far as their best players (major) will take them. ROC Curve is still within the realm of acceptable for our purposes, so we can continue to feel confident about our modeling methods. Let's run the SVM model and see if we find any accuracy improvements."
   ]
  },
  {
   "cell_type": "markdown",
   "metadata": {},
   "source": [
    "### SVM"
   ]
  },
  {
   "cell_type": "code",
   "execution_count": 39,
   "metadata": {},
   "outputs": [
    {
     "name": "stdout",
     "output_type": "stream",
     "text": [
      "Fitting 5 folds for each of 600 candidates, totalling 3000 fits\n"
     ]
    },
    {
     "name": "stderr",
     "output_type": "stream",
     "text": [
      "[Parallel(n_jobs=-1)]: Using backend LokyBackend with 8 concurrent workers.\n",
      "[Parallel(n_jobs=-1)]: Done  34 tasks      | elapsed:    1.0s\n",
      "[Parallel(n_jobs=-1)]: Done 184 tasks      | elapsed:    5.4s\n",
      "[Parallel(n_jobs=-1)]: Done 434 tasks      | elapsed:   12.8s\n",
      "[Parallel(n_jobs=-1)]: Done 784 tasks      | elapsed:   23.5s\n",
      "[Parallel(n_jobs=-1)]: Done 1234 tasks      | elapsed:   37.1s\n",
      "[Parallel(n_jobs=-1)]: Done 1784 tasks      | elapsed:   52.9s\n",
      "[Parallel(n_jobs=-1)]: Done 2434 tasks      | elapsed:  1.4min\n",
      "[Parallel(n_jobs=-1)]: Done 3000 out of 3000 | elapsed:  3.4min finished\n"
     ]
    },
    {
     "data": {
      "text/plain": [
       "{'C': 7.742636826811277, 'gamma': 0.008858667904100823, 'kernel': 'rbf'}"
      ]
     },
     "execution_count": 39,
     "metadata": {},
     "output_type": "execute_result"
    }
   ],
   "source": [
    "clf_core = svm.SVC()\n",
    "gamma_range = np.logspace(-5, 2, 20)\n",
    "C_range = np.logspace(-3, 2, 10)\n",
    "kernel_range = ['rbf', 'sigmoid', 'linear']\n",
    "param_grid = dict(gamma = gamma_range, C = C_range, kernel=kernel_range)\n",
    "\n",
    "sv_grid_core = GridSearchCV(clf_core, param_grid, cv=5,\n",
    "                   scoring = 'accuracy', n_jobs = -1,\n",
    "                   verbose = 1)\n",
    "\n",
    "sv_grid_core.fit(X_train_sc_core, y_train_core)\n",
    "sv_grid_core.best_params_"
   ]
  },
  {
   "cell_type": "code",
   "execution_count": 40,
   "metadata": {},
   "outputs": [
    {
     "name": "stdout",
     "output_type": "stream",
     "text": [
      "X_train accuracy: 0.7889705882352941\n",
      "X_test accuracy: 0.7607497243660419\n"
     ]
    }
   ],
   "source": [
    "print('X_train accuracy:', sv_grid_core.score(X_train_sc_core, y_train_core))\n",
    "print('X_test accuracy:', sv_grid_core.score(X_test_sc_core, y_test_core))"
   ]
  },
  {
   "cell_type": "code",
   "execution_count": 84,
   "metadata": {},
   "outputs": [
    {
     "name": "stdout",
     "output_type": "stream",
     "text": [
      "accuracy: 0.7607497243660419\n",
      "specificity: 0.8036072144288577\n",
      "sensitivity: 0.7083333333333334\n",
      "precision: 0.7467700258397932\n"
     ]
    },
    {
     "data": {
      "image/png": "[encoded data removed]",
      "text/plain": [
       "<Figure size 432x288 with 2 Axes>"
      ]
     },
     "metadata": {
      "needs_background": "light"
     },
     "output_type": "display_data"
    }
   ],
   "source": [
    "metrics.plot_confusion_matrix(sv_grid_core, X_test_sc_core, y_test_core, cmap='Blues', \n",
    "                      values_format='d', display_labels=['not_playoff_caliber', 'playoff_caliber'])\n",
    "plt.title('Core Players Confusion Matrix (SVM Model)')\n",
    "\n",
    "sv_core_preds = sv_grid_core.predict(X_test_sc_core)\n",
    "tn, fp, fn, tp = metrics.confusion_matrix(y_test_core, sv_core_preds).ravel()\n",
    "accuracy = (tn + tp)/ (tn + fp + fn+ tp)\n",
    "specificity = tn / (tn + fp)\n",
    "sensitivity = tp / (tp + fn)\n",
    "precision = tp / (tp + fp)\n",
    "\n",
    "print('accuracy:', accuracy)\n",
    "print('specificity:', specificity)\n",
    "print('sensitivity:', sensitivity)\n",
    "print('precision:', precision)"
   ]
  },
  {
   "cell_type": "code",
   "execution_count": 90,
   "metadata": {},
   "outputs": [
    {
     "data": {
      "image/png": "[encoded data removed]",
      "text/plain": [
       "<Figure size 432x288 with 1 Axes>"
      ]
     },
     "metadata": {
      "needs_background": "light"
     },
     "output_type": "display_data"
    }
   ],
   "source": [
    "metrics.plot_roc_curve(sv_grid_core, X_test_sc_core, y_test_core)\n",
    "plt.plot([0, 1], [0, 1])\n",
    "plt.title('Core Players ROC Curve (SVM Model)');"
   ]
  },
  {
   "cell_type": "markdown",
   "metadata": {},
   "source": [
    "**Results:** It looks like our testing accuracy for both models was actually identical but our training score for SVM was a bit higher. It won't make too much of a difference here which model we use but if we choose to value specificty over sensitivity it might make some differences as we can see from the confusion matrices. Since I would prefer a focus on identifying these playoff caliber players, I think the higher sensitivity score model (LogisticRegression) can work a bit better for this tier. This way we avoid missing playoff caliber playoffs and run the risk of overvaluing instead of undervaluing a player. "
   ]
  },
  {
   "cell_type": "markdown",
   "metadata": {},
   "source": [
    "**Core Player Predictions Using LogReg Model**"
   ]
  },
  {
   "cell_type": "code",
   "execution_count": 42,
   "metadata": {},
   "outputs": [
    {
     "data": {
      "text/html": [
       "<div>\n",
       "<style scoped>\n",
       "    .dataframe tbody tr th:only-of-type {\n",
       "        vertical-align: middle;\n",
       "    }\n",
       "\n",
       "    .dataframe tbody tr th {\n",
       "        vertical-align: top;\n",
       "    }\n",
       "\n",
       "    .dataframe thead th {\n",
       "        text-align: right;\n",
       "    }\n",
       "</style>\n",
       "<table border=\"1\" class=\"dataframe\">\n",
       "  <thead>\n",
       "    <tr style=\"text-align: right;\">\n",
       "      <th></th>\n",
       "      <th>name</th>\n",
       "      <th>team</th>\n",
       "      <th>year</th>\n",
       "      <th>games_played</th>\n",
       "      <th>mpg</th>\n",
       "      <th>fg%</th>\n",
       "      <th>3pfg%</th>\n",
       "      <th>rebounds</th>\n",
       "      <th>assists</th>\n",
       "      <th>steals</th>\n",
       "      <th>blocks</th>\n",
       "      <th>points_per_game</th>\n",
       "      <th>position</th>\n",
       "      <th>player_efficiency</th>\n",
       "      <th>true_shooting</th>\n",
       "      <th>plus_minus</th>\n",
       "      <th>win_shares_percentage</th>\n",
       "      <th>is_playoff_caliber</th>\n",
       "    </tr>\n",
       "  </thead>\n",
       "  <tbody>\n",
       "    <tr>\n",
       "      <th>2</th>\n",
       "      <td>Steven Adams</td>\n",
       "      <td>NOP</td>\n",
       "      <td>2021</td>\n",
       "      <td>34</td>\n",
       "      <td>27.8</td>\n",
       "      <td>0.614</td>\n",
       "      <td>0.000</td>\n",
       "      <td>9.0</td>\n",
       "      <td>2.0</td>\n",
       "      <td>0.9</td>\n",
       "      <td>0.6</td>\n",
       "      <td>8.2</td>\n",
       "      <td>C</td>\n",
       "      <td>16.2</td>\n",
       "      <td>0.597</td>\n",
       "      <td>-0.9</td>\n",
       "      <td>0.108</td>\n",
       "      <td>0</td>\n",
       "    </tr>\n",
       "    <tr>\n",
       "      <th>4</th>\n",
       "      <td>LaMarcus Aldridge</td>\n",
       "      <td>SAS</td>\n",
       "      <td>2021</td>\n",
       "      <td>21</td>\n",
       "      <td>25.9</td>\n",
       "      <td>0.464</td>\n",
       "      <td>0.360</td>\n",
       "      <td>4.5</td>\n",
       "      <td>1.7</td>\n",
       "      <td>0.4</td>\n",
       "      <td>0.9</td>\n",
       "      <td>13.7</td>\n",
       "      <td>C</td>\n",
       "      <td>15.0</td>\n",
       "      <td>0.545</td>\n",
       "      <td>-1.2</td>\n",
       "      <td>0.074</td>\n",
       "      <td>0</td>\n",
       "    </tr>\n",
       "    <tr>\n",
       "      <th>7</th>\n",
       "      <td>Grayson Allen</td>\n",
       "      <td>MEM</td>\n",
       "      <td>2021</td>\n",
       "      <td>23</td>\n",
       "      <td>24.0</td>\n",
       "      <td>0.409</td>\n",
       "      <td>0.407</td>\n",
       "      <td>2.8</td>\n",
       "      <td>2.2</td>\n",
       "      <td>1.0</td>\n",
       "      <td>0.1</td>\n",
       "      <td>9.3</td>\n",
       "      <td>SG</td>\n",
       "      <td>12.5</td>\n",
       "      <td>0.592</td>\n",
       "      <td>-0.2</td>\n",
       "      <td>0.110</td>\n",
       "      <td>1</td>\n",
       "    </tr>\n",
       "    <tr>\n",
       "      <th>8</th>\n",
       "      <td>Jarrett Allen</td>\n",
       "      <td>CLE</td>\n",
       "      <td>2021</td>\n",
       "      <td>35</td>\n",
       "      <td>27.9</td>\n",
       "      <td>0.669</td>\n",
       "      <td>0.500</td>\n",
       "      <td>9.9</td>\n",
       "      <td>1.7</td>\n",
       "      <td>0.5</td>\n",
       "      <td>1.7</td>\n",
       "      <td>13.5</td>\n",
       "      <td>C</td>\n",
       "      <td>23.6</td>\n",
       "      <td>0.714</td>\n",
       "      <td>3.4</td>\n",
       "      <td>0.219</td>\n",
       "      <td>1</td>\n",
       "    </tr>\n",
       "    <tr>\n",
       "      <th>10</th>\n",
       "      <td>Kyle Anderson</td>\n",
       "      <td>MEM</td>\n",
       "      <td>2021</td>\n",
       "      <td>31</td>\n",
       "      <td>27.5</td>\n",
       "      <td>0.476</td>\n",
       "      <td>0.376</td>\n",
       "      <td>6.1</td>\n",
       "      <td>3.5</td>\n",
       "      <td>1.2</td>\n",
       "      <td>0.7</td>\n",
       "      <td>13.4</td>\n",
       "      <td>PF</td>\n",
       "      <td>17.5</td>\n",
       "      <td>0.585</td>\n",
       "      <td>2.9</td>\n",
       "      <td>0.142</td>\n",
       "      <td>1</td>\n",
       "    </tr>\n",
       "  </tbody>\n",
       "</table>\n",
       "</div>"
      ],
      "text/plain": [
       "                 name team  year  games_played   mpg    fg%  3pfg%  rebounds  \\\n",
       "2        Steven Adams  NOP  2021            34  27.8  0.614  0.000       9.0   \n",
       "4   LaMarcus Aldridge  SAS  2021            21  25.9  0.464  0.360       4.5   \n",
       "7       Grayson Allen  MEM  2021            23  24.0  0.409  0.407       2.8   \n",
       "8       Jarrett Allen  CLE  2021            35  27.9  0.669  0.500       9.9   \n",
       "10      Kyle Anderson  MEM  2021            31  27.5  0.476  0.376       6.1   \n",
       "\n",
       "    assists  steals  blocks  points_per_game position  player_efficiency  \\\n",
       "2       2.0     0.9     0.6              8.2        C               16.2   \n",
       "4       1.7     0.4     0.9             13.7        C               15.0   \n",
       "7       2.2     1.0     0.1              9.3       SG               12.5   \n",
       "8       1.7     0.5     1.7             13.5        C               23.6   \n",
       "10      3.5     1.2     0.7             13.4       PF               17.5   \n",
       "\n",
       "    true_shooting  plus_minus  win_shares_percentage  is_playoff_caliber  \n",
       "2           0.597        -0.9                  0.108                   0  \n",
       "4           0.545        -1.2                  0.074                   0  \n",
       "7           0.592        -0.2                  0.110                   1  \n",
       "8           0.714         3.4                  0.219                   1  \n",
       "10          0.585         2.9                  0.142                   1  "
      ]
     },
     "execution_count": 42,
     "metadata": {},
     "output_type": "execute_result"
    }
   ],
   "source": [
    "#scaling our 2021 data so it will align correctly with the model\n",
    "core_2021_sc = ss.fit_transform(core_players_2021[features])\n",
    "\n",
    "#creating the predictions variable for our 2021 data:\n",
    "preds_core = log_gs_core.predict(core_2021_sc)\n",
    "\n",
    "#setting a column playoff caliber column:\n",
    "core_players_2021['is_playoff_caliber'] = preds_core\n",
    "\n",
    "#checking our new data\n",
    "core_players_2021.head()"
   ]
  },
  {
   "cell_type": "markdown",
   "metadata": {},
   "source": [
    "## Rotational Players"
   ]
  },
  {
   "cell_type": "markdown",
   "metadata": {},
   "source": [
    "Continuing on with rotational players. Once again, this tier should be a bit more challenging than the last in terms of generating favorable accuracy scores, but let's see if we can arrive at an adequate model using the same techniques as the other tiers"
   ]
  },
  {
   "cell_type": "code",
   "execution_count": 43,
   "metadata": {},
   "outputs": [],
   "source": [
    "#rotational players all\n",
    "X_rot = rotational_players_all[features]\n",
    "y_rot = rotational_players_all.in_playoff\n",
    "\n",
    "X_train_rot, X_test_rot, y_train_rot, y_test_rot = train_test_split(X_rot, y_rot, random_state = 23, stratify = y_rot)"
   ]
  },
  {
   "cell_type": "code",
   "execution_count": 44,
   "metadata": {},
   "outputs": [],
   "source": [
    "ss = StandardScaler()\n",
    "X_train_sc_rot = ss.fit_transform(X_train_rot)\n",
    "X_test_sc_rot = ss.transform(X_test_rot)"
   ]
  },
  {
   "cell_type": "code",
   "execution_count": 45,
   "metadata": {},
   "outputs": [
    {
     "name": "stdout",
     "output_type": "stream",
     "text": [
      "0    0.559257\n",
      "1    0.440743\n",
      "Name: in_playoff, dtype: float64\n",
      "0    0.559382\n",
      "1    0.440618\n",
      "Name: in_playoff, dtype: float64\n",
      "0    0.55888\n",
      "1    0.44112\n",
      "Name: in_playoff, dtype: float64\n"
     ]
    }
   ],
   "source": [
    "#checking our baselines:\n",
    "print(y_rot.value_counts(normalize=True))\n",
    "print(y_train_rot.value_counts(normalize=True))\n",
    "print(y_test_rot.value_counts(normalize=True))"
   ]
  },
  {
   "cell_type": "markdown",
   "metadata": {},
   "source": [
    "### LogisticRegression"
   ]
  },
  {
   "cell_type": "code",
   "execution_count": 46,
   "metadata": {},
   "outputs": [
    {
     "name": "stdout",
     "output_type": "stream",
     "text": [
      "Fitting 5 folds for each of 108 candidates, totalling 540 fits\n"
     ]
    },
    {
     "name": "stderr",
     "output_type": "stream",
     "text": [
      "[Parallel(n_jobs=-1)]: Using backend LokyBackend with 8 concurrent workers.\n",
      "[Parallel(n_jobs=-1)]: Done  60 tasks      | elapsed:    0.2s\n"
     ]
    },
    {
     "name": "stdout",
     "output_type": "stream",
     "text": [
      "{'Cs': 6, 'penalty': 'l1', 'solver': 'saga'}\n"
     ]
    },
    {
     "name": "stderr",
     "output_type": "stream",
     "text": [
      "[Parallel(n_jobs=-1)]: Done 540 out of 540 | elapsed:    7.9s finished\n"
     ]
    }
   ],
   "source": [
    "logreg_cv_rot = LogisticRegressionCV()\n",
    "Cs_range = np.arange(1,10)\n",
    "params = {\n",
    "    'Cs': Cs_range,\n",
    "    'penalty' :['l1', 'l2', 'elasticnet'],\n",
    "    'solver': ['lbfgs', 'liblinear', 'sag', 'saga']}\n",
    "log_gs_rot = GridSearchCV(logreg_cv_rot, param_grid=params, cv=5,\n",
    "                   scoring = 'accuracy', n_jobs = -1,\n",
    "                   verbose = 1)\n",
    "\n",
    "log_gs_rot.fit(X_train_sc_rot, y_train_rot)\n",
    "print(log_gs_rot.best_params_)"
   ]
  },
  {
   "cell_type": "code",
   "execution_count": 47,
   "metadata": {},
   "outputs": [
    {
     "name": "stdout",
     "output_type": "stream",
     "text": [
      "X_train accuracy: 0.7409076279369167\n",
      "X_test accuracy: 0.7200772200772201\n"
     ]
    }
   ],
   "source": [
    "print('X_train accuracy:', log_gs_rot.score(X_train_sc_rot, y_train_rot))\n",
    "print('X_test accuracy:', log_gs_rot.score(X_test_sc_rot, y_test_rot))"
   ]
  },
  {
   "cell_type": "code",
   "execution_count": 85,
   "metadata": {},
   "outputs": [
    {
     "name": "stdout",
     "output_type": "stream",
     "text": [
      "accuracy: 0.7200772200772201\n",
      "specificity: 0.7616580310880829\n",
      "sensitivity: 0.6673960612691466\n",
      "precision: 0.6884875846501128\n"
     ]
    },
    {
     "data": {
      "image/png": "[encoded data removed]",
      "text/plain": [
       "<Figure size 432x288 with 2 Axes>"
      ]
     },
     "metadata": {
      "needs_background": "light"
     },
     "output_type": "display_data"
    }
   ],
   "source": [
    "metrics.plot_confusion_matrix(log_gs_rot, X_test_sc_rot, y_test_rot, cmap='Blues', \n",
    "                      values_format='d', display_labels=['not_playoff_caliber', 'playoff_caliber'])\n",
    "plt.title('Rotational Players Confusion Matrix (LogReg Model)')\n",
    "\n",
    "log_rot_preds = log_gs_rot.predict(X_test_sc_rot)\n",
    "tn, fp, fn, tp = metrics.confusion_matrix(y_test_rot, log_rot_preds).ravel()\n",
    "accuracy = (tn + tp)/ (tn + fp + fn+ tp)\n",
    "specificity = tn / (tn + fp)\n",
    "sensitivity = tp / (tp + fn)\n",
    "precision = tp / (tp + fp)\n",
    "\n",
    "print('accuracy:', accuracy)\n",
    "print('specificity:', specificity)\n",
    "print('sensitivity:', sensitivity)\n",
    "print('precision:', precision)"
   ]
  },
  {
   "cell_type": "code",
   "execution_count": 91,
   "metadata": {},
   "outputs": [
    {
     "data": {
      "image/png": "[encoded data removed]",
      "text/plain": [
       "<Figure size 432x288 with 1 Axes>"
      ]
     },
     "metadata": {
      "needs_background": "light"
     },
     "output_type": "display_data"
    }
   ],
   "source": [
    "metrics.plot_roc_curve(log_gs_rot, X_test_sc_rot, y_test_rot)\n",
    "plt.plot([0, 1], [0, 1])\n",
    "plt.title('Rotational Players ROC Curve (LogReg Model)');"
   ]
  },
  {
   "cell_type": "markdown",
   "metadata": {},
   "source": [
    "**Findings:** A slight decrease again, but still able to to beat our baseline by roughly 17%. Considering how hard it is to account for a playoff caliber rotational player, I would say that this is a favorable score. This difficulty in predicting as we move down player tiers is shown with our ROC Curve starting to bend towads our 0.5 line, but again our score is still on the more ideal spectrum of ROC curve results. Let's try out SVM model and see if we can improve"
   ]
  },
  {
   "cell_type": "markdown",
   "metadata": {},
   "source": [
    "### SVM"
   ]
  },
  {
   "cell_type": "code",
   "execution_count": 49,
   "metadata": {},
   "outputs": [
    {
     "name": "stdout",
     "output_type": "stream",
     "text": [
      "Fitting 5 folds for each of 600 candidates, totalling 3000 fits\n"
     ]
    },
    {
     "name": "stderr",
     "output_type": "stream",
     "text": [
      "[Parallel(n_jobs=-1)]: Using backend LokyBackend with 8 concurrent workers.\n",
      "[Parallel(n_jobs=-1)]: Done  34 tasks      | elapsed:    1.9s\n",
      "[Parallel(n_jobs=-1)]: Done 184 tasks      | elapsed:    8.5s\n",
      "[Parallel(n_jobs=-1)]: Done 434 tasks      | elapsed:   19.6s\n",
      "[Parallel(n_jobs=-1)]: Done 784 tasks      | elapsed:   35.4s\n",
      "[Parallel(n_jobs=-1)]: Done 1234 tasks      | elapsed:   53.8s\n",
      "[Parallel(n_jobs=-1)]: Done 1784 tasks      | elapsed:  1.3min\n",
      "[Parallel(n_jobs=-1)]: Done 2434 tasks      | elapsed:  2.1min\n",
      "[Parallel(n_jobs=-1)]: Done 3000 out of 3000 | elapsed:  5.2min finished\n"
     ]
    },
    {
     "data": {
      "text/plain": [
       "{'C': 100.0, 'gamma': 0.00379269019073225, 'kernel': 'rbf'}"
      ]
     },
     "execution_count": 49,
     "metadata": {},
     "output_type": "execute_result"
    }
   ],
   "source": [
    "clf_rot = svm.SVC()\n",
    "gamma_range = np.logspace(-5, 2, 20)\n",
    "C_range = np.logspace(-3, 2, 10)\n",
    "kernel_range = ['rbf', 'sigmoid', 'linear']\n",
    "param_grid = dict(gamma = gamma_range, C = C_range, kernel=kernel_range)\n",
    "\n",
    "sv_grid_rot = GridSearchCV(clf_rot, param_grid, cv=5,\n",
    "                   scoring = 'accuracy', n_jobs = -1,\n",
    "                   verbose = 1)\n",
    "\n",
    "sv_grid_rot.fit(X_train_sc_rot, y_train_rot)\n",
    "sv_grid_rot.best_params_"
   ]
  },
  {
   "cell_type": "code",
   "execution_count": 50,
   "metadata": {},
   "outputs": [
    {
     "name": "stdout",
     "output_type": "stream",
     "text": [
      "X_train accuracy: 0.753781783070486\n",
      "X_test accuracy: 0.7104247104247104\n"
     ]
    }
   ],
   "source": [
    "print('X_train accuracy:', sv_grid_rot.score(X_train_sc_rot, y_train_rot))\n",
    "print('X_test accuracy:', sv_grid_rot.score(X_test_sc_rot, y_test_rot))"
   ]
  },
  {
   "cell_type": "code",
   "execution_count": 86,
   "metadata": {},
   "outputs": [
    {
     "name": "stdout",
     "output_type": "stream",
     "text": [
      "accuracy: 0.7104247104247104\n",
      "specificity: 0.7633851468048359\n",
      "sensitivity: 0.6433260393873085\n",
      "precision: 0.6821345707656613\n"
     ]
    },
    {
     "data": {
      "image/png": "[encoded data removed]",
      "text/plain": [
       "<Figure size 432x288 with 2 Axes>"
      ]
     },
     "metadata": {
      "needs_background": "light"
     },
     "output_type": "display_data"
    }
   ],
   "source": [
    "metrics.plot_confusion_matrix(sv_grid_rot, X_test_sc_rot, y_test_rot, cmap='Blues', \n",
    "                      values_format='d', display_labels=['not_playoff_caliber', 'playoff_caliber'])\n",
    "plt.title('Rotational Players Confusion Matrix (SVM Model)')\n",
    "\n",
    "sv_rot_preds = sv_grid_rot.predict(X_test_sc_rot)\n",
    "tn, fp, fn, tp = metrics.confusion_matrix(y_test_rot, sv_rot_preds).ravel()\n",
    "accuracy = (tn + tp)/ (tn + fp + fn+ tp)\n",
    "specificity = tn / (tn + fp)\n",
    "sensitivity = tp / (tp + fn)\n",
    "precision = tp / (tp + fp)\n",
    "\n",
    "print('accuracy:', accuracy)\n",
    "print('specificity:', specificity)\n",
    "print('sensitivity:', sensitivity)\n",
    "print('precision:', precision)"
   ]
  },
  {
   "cell_type": "code",
   "execution_count": 92,
   "metadata": {},
   "outputs": [
    {
     "data": {
      "image/png": "[encoded data removed]",
      "text/plain": [
       "<Figure size 432x288 with 1 Axes>"
      ]
     },
     "metadata": {
      "needs_background": "light"
     },
     "output_type": "display_data"
    }
   ],
   "source": [
    "metrics.plot_roc_curve(sv_grid_rot, X_test_sc_rot, y_test_rot)\n",
    "plt.plot([0, 1], [0, 1])\n",
    "plt.title('Rotational Players ROC Curve (SVM Model)');"
   ]
  },
  {
   "cell_type": "markdown",
   "metadata": {},
   "source": [
    "**Results:** Here we see a slight deviation in score with a better testing score with LogisticRegression and higher training with SVM. Again, both acceptable model choices, but let's select the one with less overfitting and a higher testing score and use our LogReg for the rotational player predictions, although as we see from our ROC Curve if we could still within reason use our SVM model despite the overfitting (if we wanted to)."
   ]
  },
  {
   "cell_type": "markdown",
   "metadata": {},
   "source": [
    "**Rotational Player Predictions Using LogReg Model**"
   ]
  },
  {
   "cell_type": "code",
   "execution_count": 52,
   "metadata": {},
   "outputs": [
    {
     "data": {
      "text/html": [
       "<div>\n",
       "<style scoped>\n",
       "    .dataframe tbody tr th:only-of-type {\n",
       "        vertical-align: middle;\n",
       "    }\n",
       "\n",
       "    .dataframe tbody tr th {\n",
       "        vertical-align: top;\n",
       "    }\n",
       "\n",
       "    .dataframe thead th {\n",
       "        text-align: right;\n",
       "    }\n",
       "</style>\n",
       "<table border=\"1\" class=\"dataframe\">\n",
       "  <thead>\n",
       "    <tr style=\"text-align: right;\">\n",
       "      <th></th>\n",
       "      <th>name</th>\n",
       "      <th>team</th>\n",
       "      <th>year</th>\n",
       "      <th>games_played</th>\n",
       "      <th>mpg</th>\n",
       "      <th>fg%</th>\n",
       "      <th>3pfg%</th>\n",
       "      <th>rebounds</th>\n",
       "      <th>assists</th>\n",
       "      <th>steals</th>\n",
       "      <th>blocks</th>\n",
       "      <th>points_per_game</th>\n",
       "      <th>position</th>\n",
       "      <th>player_efficiency</th>\n",
       "      <th>true_shooting</th>\n",
       "      <th>plus_minus</th>\n",
       "      <th>win_shares_percentage</th>\n",
       "      <th>is_playoff_caliber</th>\n",
       "    </tr>\n",
       "  </thead>\n",
       "  <tbody>\n",
       "    <tr>\n",
       "      <th>0</th>\n",
       "      <td>Precious Achiuwa</td>\n",
       "      <td>MIA</td>\n",
       "      <td>2021</td>\n",
       "      <td>36</td>\n",
       "      <td>13.8</td>\n",
       "      <td>0.582</td>\n",
       "      <td>0.000</td>\n",
       "      <td>4.0</td>\n",
       "      <td>0.6</td>\n",
       "      <td>0.4</td>\n",
       "      <td>0.5</td>\n",
       "      <td>5.9</td>\n",
       "      <td>PF</td>\n",
       "      <td>15.4</td>\n",
       "      <td>0.586</td>\n",
       "      <td>-2.8</td>\n",
       "      <td>0.108</td>\n",
       "      <td>0</td>\n",
       "    </tr>\n",
       "    <tr>\n",
       "      <th>6</th>\n",
       "      <td>Nickeil Alexander-Walker</td>\n",
       "      <td>NOP</td>\n",
       "      <td>2021</td>\n",
       "      <td>29</td>\n",
       "      <td>17.9</td>\n",
       "      <td>0.407</td>\n",
       "      <td>0.307</td>\n",
       "      <td>2.4</td>\n",
       "      <td>1.9</td>\n",
       "      <td>1.0</td>\n",
       "      <td>0.3</td>\n",
       "      <td>8.3</td>\n",
       "      <td>SG</td>\n",
       "      <td>12.1</td>\n",
       "      <td>0.507</td>\n",
       "      <td>-2.1</td>\n",
       "      <td>0.024</td>\n",
       "      <td>0</td>\n",
       "    </tr>\n",
       "    <tr>\n",
       "      <th>17</th>\n",
       "      <td>Ryan Arcidiacono</td>\n",
       "      <td>CHI</td>\n",
       "      <td>2021</td>\n",
       "      <td>19</td>\n",
       "      <td>10.8</td>\n",
       "      <td>0.404</td>\n",
       "      <td>0.333</td>\n",
       "      <td>1.8</td>\n",
       "      <td>1.2</td>\n",
       "      <td>0.3</td>\n",
       "      <td>0.0</td>\n",
       "      <td>3.2</td>\n",
       "      <td>PG</td>\n",
       "      <td>10.1</td>\n",
       "      <td>0.545</td>\n",
       "      <td>-2.5</td>\n",
       "      <td>0.088</td>\n",
       "      <td>1</td>\n",
       "    </tr>\n",
       "    <tr>\n",
       "      <th>18</th>\n",
       "      <td>D.J. Augustin</td>\n",
       "      <td>MIL</td>\n",
       "      <td>2021</td>\n",
       "      <td>35</td>\n",
       "      <td>19.5</td>\n",
       "      <td>0.364</td>\n",
       "      <td>0.381</td>\n",
       "      <td>1.4</td>\n",
       "      <td>3.0</td>\n",
       "      <td>0.6</td>\n",
       "      <td>0.0</td>\n",
       "      <td>6.3</td>\n",
       "      <td>PG</td>\n",
       "      <td>10.5</td>\n",
       "      <td>0.538</td>\n",
       "      <td>-1.9</td>\n",
       "      <td>0.084</td>\n",
       "      <td>1</td>\n",
       "    </tr>\n",
       "    <tr>\n",
       "      <th>34</th>\n",
       "      <td>Kent Bazemore</td>\n",
       "      <td>GSW</td>\n",
       "      <td>2021</td>\n",
       "      <td>36</td>\n",
       "      <td>16.8</td>\n",
       "      <td>0.472</td>\n",
       "      <td>0.424</td>\n",
       "      <td>2.9</td>\n",
       "      <td>1.6</td>\n",
       "      <td>0.9</td>\n",
       "      <td>0.5</td>\n",
       "      <td>6.5</td>\n",
       "      <td>SF</td>\n",
       "      <td>12.4</td>\n",
       "      <td>0.600</td>\n",
       "      <td>0.1</td>\n",
       "      <td>0.092</td>\n",
       "      <td>0</td>\n",
       "    </tr>\n",
       "  </tbody>\n",
       "</table>\n",
       "</div>"
      ],
      "text/plain": [
       "                        name team  year  games_played   mpg    fg%  3pfg%  \\\n",
       "0           Precious Achiuwa  MIA  2021            36  13.8  0.582  0.000   \n",
       "6   Nickeil Alexander-Walker  NOP  2021            29  17.9  0.407  0.307   \n",
       "17          Ryan Arcidiacono  CHI  2021            19  10.8  0.404  0.333   \n",
       "18             D.J. Augustin  MIL  2021            35  19.5  0.364  0.381   \n",
       "34             Kent Bazemore  GSW  2021            36  16.8  0.472  0.424   \n",
       "\n",
       "    rebounds  assists  steals  blocks  points_per_game position  \\\n",
       "0        4.0      0.6     0.4     0.5              5.9       PF   \n",
       "6        2.4      1.9     1.0     0.3              8.3       SG   \n",
       "17       1.8      1.2     0.3     0.0              3.2       PG   \n",
       "18       1.4      3.0     0.6     0.0              6.3       PG   \n",
       "34       2.9      1.6     0.9     0.5              6.5       SF   \n",
       "\n",
       "    player_efficiency  true_shooting  plus_minus  win_shares_percentage  \\\n",
       "0                15.4          0.586        -2.8                  0.108   \n",
       "6                12.1          0.507        -2.1                  0.024   \n",
       "17               10.1          0.545        -2.5                  0.088   \n",
       "18               10.5          0.538        -1.9                  0.084   \n",
       "34               12.4          0.600         0.1                  0.092   \n",
       "\n",
       "    is_playoff_caliber  \n",
       "0                    0  \n",
       "6                    0  \n",
       "17                   1  \n",
       "18                   1  \n",
       "34                   0  "
      ]
     },
     "execution_count": 52,
     "metadata": {},
     "output_type": "execute_result"
    }
   ],
   "source": [
    "#scaling our 2021 data so it will align correctly with the model\n",
    "rot_2021_sc = ss.fit_transform(rotational_players_2021[features])\n",
    "\n",
    "#creating the predictions variable for our 2021 data:\n",
    "preds_rot = log_gs_rot.predict(rot_2021_sc)\n",
    "\n",
    "#setting a column playoff caliber column:\n",
    "rotational_players_2021['is_playoff_caliber'] = preds_rot\n",
    "\n",
    "#checking our new data\n",
    "rotational_players_2021.head()"
   ]
  },
  {
   "cell_type": "markdown",
   "metadata": {},
   "source": [
    "## Reserve Players "
   ]
  },
  {
   "cell_type": "markdown",
   "metadata": {},
   "source": [
    "Last, but not least, our reserve players. As we saw with our EDA this should be a challenge, but the fact that it may be so close to the baseline using the same already successful features with the other tiers, may provide enough insight that if we cannot improve to a satisfactory level, reserve players may not be overly critical to a winning team (**Note: Important from an in-game performance standpoint. Reserve players can add immeasurable value to a winning team in other ways outside of the games themselves**)"
   ]
  },
  {
   "cell_type": "code",
   "execution_count": 53,
   "metadata": {},
   "outputs": [],
   "source": [
    "#reserves players all\n",
    "X_res = reserve_players_all[features]\n",
    "y_res = reserve_players_all.in_playoff\n",
    "\n",
    "X_train_res, X_test_res, y_train_res, y_test_res = train_test_split(X_res, y_res, random_state = 23, stratify = y_res)"
   ]
  },
  {
   "cell_type": "code",
   "execution_count": 54,
   "metadata": {},
   "outputs": [],
   "source": [
    "ss = StandardScaler()\n",
    "X_train_sc_res = ss.fit_transform(X_train_res)\n",
    "X_test_sc_res = ss.transform(X_test_res)"
   ]
  },
  {
   "cell_type": "code",
   "execution_count": 55,
   "metadata": {},
   "outputs": [
    {
     "name": "stdout",
     "output_type": "stream",
     "text": [
      "1    0.557648\n",
      "0    0.442352\n",
      "Name: in_playoff, dtype: float64\n",
      "1    0.557663\n",
      "0    0.442337\n",
      "Name: in_playoff, dtype: float64\n",
      "1    0.557604\n",
      "0    0.442396\n",
      "Name: in_playoff, dtype: float64\n"
     ]
    }
   ],
   "source": [
    "#checking our baselines:\n",
    "print(y_res.value_counts(normalize=True))\n",
    "print(y_train_res.value_counts(normalize=True))\n",
    "print(y_test_res.value_counts(normalize=True))"
   ]
  },
  {
   "cell_type": "markdown",
   "metadata": {},
   "source": [
    "### LogisticRegression"
   ]
  },
  {
   "cell_type": "code",
   "execution_count": 56,
   "metadata": {},
   "outputs": [
    {
     "name": "stdout",
     "output_type": "stream",
     "text": [
      "Fitting 5 folds for each of 108 candidates, totalling 540 fits\n"
     ]
    },
    {
     "name": "stderr",
     "output_type": "stream",
     "text": [
      "[Parallel(n_jobs=-1)]: Using backend LokyBackend with 8 concurrent workers.\n",
      "[Parallel(n_jobs=-1)]: Done  56 tasks      | elapsed:    0.2s\n",
      "[Parallel(n_jobs=-1)]: Done 540 out of 540 | elapsed:    7.5s finished\n"
     ]
    },
    {
     "name": "stdout",
     "output_type": "stream",
     "text": [
      "{'Cs': 6, 'penalty': 'l1', 'solver': 'saga'}\n"
     ]
    }
   ],
   "source": [
    "logreg_cv_res = LogisticRegressionCV()\n",
    "Cs_range = np.arange(1,10)\n",
    "params = {\n",
    "    'Cs': Cs_range,\n",
    "    'penalty' :['l1', 'l2', 'elasticnet'],\n",
    "    'solver': ['lbfgs', 'liblinear', 'sag', 'saga']}\n",
    "log_gs_res = GridSearchCV(logreg_cv_res, param_grid=params, cv=5,\n",
    "                   scoring = 'accuracy', n_jobs = -1,\n",
    "                   verbose = 1)\n",
    "\n",
    "log_gs_res.fit(X_train_sc_res, y_train_res)\n",
    "print(log_gs_res.best_params_)"
   ]
  },
  {
   "cell_type": "code",
   "execution_count": 57,
   "metadata": {},
   "outputs": [
    {
     "name": "stdout",
     "output_type": "stream",
     "text": [
      "X_train accuracy: 0.5786776012301383\n",
      "X_test accuracy: 0.565284178187404\n"
     ]
    }
   ],
   "source": [
    "print('X_train accuracy:', log_gs_res.score(X_train_sc_res, y_train_res))\n",
    "print('X_test accuracy:', log_gs_res.score(X_test_sc_res, y_test_res))"
   ]
  },
  {
   "cell_type": "code",
   "execution_count": 87,
   "metadata": {},
   "outputs": [
    {
     "name": "stdout",
     "output_type": "stream",
     "text": [
      "accuracy: 0.565284178187404\n",
      "specificity: 0.19791666666666666\n",
      "sensitivity: 0.8567493112947658\n",
      "precision: 0.5738007380073801\n"
     ]
    },
    {
     "data": {
      "image/png": "[encoded data removed]",
      "text/plain": [
       "<Figure size 432x288 with 2 Axes>"
      ]
     },
     "metadata": {
      "needs_background": "light"
     },
     "output_type": "display_data"
    }
   ],
   "source": [
    "metrics.plot_confusion_matrix(log_gs_res, X_test_sc_res, y_test_res, cmap='Blues', \n",
    "                      values_format='d', display_labels=['not_playoff_caliber', 'playoff_caliber'])\n",
    "plt.title('Reserve Players Confusion Matrix (LogReg Model)')\n",
    "\n",
    "log_res_preds = log_gs_res.predict(X_test_sc_res)\n",
    "tn, fp, fn, tp = metrics.confusion_matrix(y_test_res, log_res_preds).ravel()\n",
    "accuracy = (tn + tp)/ (tn + fp + fn+ tp)\n",
    "specificity = tn / (tn + fp)\n",
    "sensitivity = tp / (tp + fn)\n",
    "precision = tp / (tp + fp)\n",
    "\n",
    "print('accuracy:', accuracy)\n",
    "print('specificity:', specificity)\n",
    "print('sensitivity:', sensitivity)\n",
    "print('precision:', precision)"
   ]
  },
  {
   "cell_type": "code",
   "execution_count": 93,
   "metadata": {},
   "outputs": [
    {
     "data": {
      "image/png": "[encoded data removed]",
      "text/plain": [
       "<Figure size 432x288 with 1 Axes>"
      ]
     },
     "metadata": {
      "needs_background": "light"
     },
     "output_type": "display_data"
    }
   ],
   "source": [
    "metrics.plot_roc_curve(log_gs_res, X_test_sc_res, y_test_res)\n",
    "plt.plot([0, 1], [0, 1])\n",
    "plt.title('Reserve Players ROC Curve (LogReg Model)');"
   ]
  },
  {
   "cell_type": "markdown",
   "metadata": {},
   "source": [
    "**Results:** Yikes! Not a great improvement from the baseline by any means with some very lopsided specificity vs sensitivity scores. It looks like our model is essentially just labeling all reserves as playoff caliber, which a silverish lining means that at least we aren't missing out on potential playoff caliber reserves by overvaluing all the players. But again, we obviously run the risk in this scenario of designating some playoff caliber when in fact they are not. (False Positives) Let's now try our SVM model and see if we have any better luck"
   ]
  },
  {
   "cell_type": "markdown",
   "metadata": {},
   "source": [
    "### SVM"
   ]
  },
  {
   "cell_type": "code",
   "execution_count": 59,
   "metadata": {},
   "outputs": [
    {
     "name": "stdout",
     "output_type": "stream",
     "text": [
      "Fitting 3 folds for each of 400 candidates, totalling 1200 fits\n"
     ]
    },
    {
     "name": "stderr",
     "output_type": "stream",
     "text": [
      "[Parallel(n_jobs=-1)]: Using backend LokyBackend with 8 concurrent workers.\n",
      "[Parallel(n_jobs=-1)]: Done  52 tasks      | elapsed:    1.1s\n",
      "[Parallel(n_jobs=-1)]: Done 352 tasks      | elapsed:    6.4s\n",
      "[Parallel(n_jobs=-1)]: Done 852 tasks      | elapsed:   14.9s\n",
      "[Parallel(n_jobs=-1)]: Done 1200 out of 1200 | elapsed:   21.6s finished\n"
     ]
    },
    {
     "data": {
      "text/plain": [
       "{'C': 27.825594022071257, 'gamma': 0.04832930238571752, 'kernel': 'rbf'}"
      ]
     },
     "execution_count": 59,
     "metadata": {},
     "output_type": "execute_result"
    }
   ],
   "source": [
    "clf_res = svm.SVC()\n",
    "gamma_range = np.logspace(-5, 2, 20)\n",
    "C_range = np.logspace(-3, 2, 10)\n",
    "kernel_range = ['rbf', 'sigmoid']\n",
    "param_grid = dict(gamma = gamma_range, C = C_range, kernel=kernel_range)\n",
    "\n",
    "sv_grid_res = GridSearchCV(clf_res, param_grid, cv=3,\n",
    "                   scoring = 'accuracy', n_jobs = -1,\n",
    "                   verbose = 1)\n",
    "\n",
    "sv_grid_res.fit(X_train_sc_res, y_train_res)\n",
    "sv_grid_res.best_params_"
   ]
  },
  {
   "cell_type": "code",
   "execution_count": 60,
   "metadata": {},
   "outputs": [
    {
     "name": "stdout",
     "output_type": "stream",
     "text": [
      "X_train accuracy: 0.7406458226550487\n",
      "X_test accuracy: 0.6374807987711214\n"
     ]
    }
   ],
   "source": [
    "print('X_train accuracy:', sv_grid_res.score(X_train_sc_res, y_train_res))\n",
    "print('X_test accuracy:', sv_grid_res.score(X_test_sc_res, y_test_res))"
   ]
  },
  {
   "cell_type": "code",
   "execution_count": 88,
   "metadata": {},
   "outputs": [
    {
     "name": "stdout",
     "output_type": "stream",
     "text": [
      "accuracy: 0.6374807987711214\n",
      "specificity: 0.5\n",
      "sensitivity: 0.7465564738292011\n",
      "precision: 0.653012048192771\n"
     ]
    },
    {
     "data": {
      "image/png": "[encoded data removed]",
      "text/plain": [
       "<Figure size 432x288 with 2 Axes>"
      ]
     },
     "metadata": {
      "needs_background": "light"
     },
     "output_type": "display_data"
    }
   ],
   "source": [
    "metrics.plot_confusion_matrix(sv_grid_res, X_test_sc_res, y_test_res, cmap='Blues', \n",
    "                      values_format='d', display_labels=['not_playoff_caliber', 'playoff_caliber'])\n",
    "plt.title('Reserve Players Confusion Matrix (SVM Model)')\n",
    "\n",
    "sv_res_preds = sv_grid_res.predict(X_test_sc_res)\n",
    "tn, fp, fn, tp = metrics.confusion_matrix(y_test_res, sv_res_preds).ravel()\n",
    "accuracy = (tn + tp)/ (tn + fp + fn+ tp)\n",
    "specificity = tn / (tn + fp)\n",
    "sensitivity = tp / (tp + fn)\n",
    "precision = tp / (tp + fp)\n",
    "\n",
    "print('accuracy:', accuracy)\n",
    "print('specificity:', specificity)\n",
    "print('sensitivity:', sensitivity)\n",
    "print('precision:', precision)"
   ]
  },
  {
   "cell_type": "code",
   "execution_count": 96,
   "metadata": {},
   "outputs": [
    {
     "data": {
      "image/png": "[encoded data removed]",
      "text/plain": [
       "<Figure size 432x288 with 1 Axes>"
      ]
     },
     "metadata": {
      "needs_background": "light"
     },
     "output_type": "display_data"
    }
   ],
   "source": [
    "metrics.plot_roc_curve(sv_grid_res, X_test_sc_res, y_test_res)\n",
    "plt.plot([0, 1], [0, 1])\n",
    "plt.title('Reserve Players ROC Curve (SVM Model)');"
   ]
  },
  {
   "cell_type": "markdown",
   "metadata": {},
   "source": [
    "**Results:** Again not the prettiest of scores, but despite being overfit by a significant amount, our testing score was much better comparatively with SVM in this case. Our sensitivity score may not be as high, but the other metrics are a lot less lopsided than the logreg model. I would say that all things consider it would be best to use the SVM model in this case despite the overfitting. We will miss out on some playoff caliber players from a classification rate, but we will also do a better job at identifying non-playoff caliber talent. We can also see our ROC Curve is much more favorable with the SVM Model, so we should be partial towards our SVM decision for this tier."
   ]
  },
  {
   "cell_type": "markdown",
   "metadata": {},
   "source": [
    "**Reserve Player Predictions Using SVM Model**"
   ]
  },
  {
   "cell_type": "code",
   "execution_count": 62,
   "metadata": {},
   "outputs": [
    {
     "data": {
      "text/html": [
       "<div>\n",
       "<style scoped>\n",
       "    .dataframe tbody tr th:only-of-type {\n",
       "        vertical-align: middle;\n",
       "    }\n",
       "\n",
       "    .dataframe tbody tr th {\n",
       "        vertical-align: top;\n",
       "    }\n",
       "\n",
       "    .dataframe thead th {\n",
       "        text-align: right;\n",
       "    }\n",
       "</style>\n",
       "<table border=\"1\" class=\"dataframe\">\n",
       "  <thead>\n",
       "    <tr style=\"text-align: right;\">\n",
       "      <th></th>\n",
       "      <th>name</th>\n",
       "      <th>team</th>\n",
       "      <th>year</th>\n",
       "      <th>games_played</th>\n",
       "      <th>mpg</th>\n",
       "      <th>fg%</th>\n",
       "      <th>3pfg%</th>\n",
       "      <th>rebounds</th>\n",
       "      <th>assists</th>\n",
       "      <th>steals</th>\n",
       "      <th>blocks</th>\n",
       "      <th>points_per_game</th>\n",
       "      <th>position</th>\n",
       "      <th>player_efficiency</th>\n",
       "      <th>true_shooting</th>\n",
       "      <th>plus_minus</th>\n",
       "      <th>win_shares_percentage</th>\n",
       "      <th>is_playoff_caliber</th>\n",
       "    </tr>\n",
       "  </thead>\n",
       "  <tbody>\n",
       "    <tr>\n",
       "      <th>1</th>\n",
       "      <td>Jaylen Adams</td>\n",
       "      <td>MIL</td>\n",
       "      <td>2021</td>\n",
       "      <td>7</td>\n",
       "      <td>2.6</td>\n",
       "      <td>0.125</td>\n",
       "      <td>0.000</td>\n",
       "      <td>0.4</td>\n",
       "      <td>0.3</td>\n",
       "      <td>0.0</td>\n",
       "      <td>0.0</td>\n",
       "      <td>0.3</td>\n",
       "      <td>PG</td>\n",
       "      <td>-6.6</td>\n",
       "      <td>0.125</td>\n",
       "      <td>-19.8</td>\n",
       "      <td>-0.250</td>\n",
       "      <td>1</td>\n",
       "    </tr>\n",
       "    <tr>\n",
       "      <th>5</th>\n",
       "      <td>Ty-Shon Alexander</td>\n",
       "      <td>PHO</td>\n",
       "      <td>2021</td>\n",
       "      <td>3</td>\n",
       "      <td>2.7</td>\n",
       "      <td>0.000</td>\n",
       "      <td>0.000</td>\n",
       "      <td>0.3</td>\n",
       "      <td>0.3</td>\n",
       "      <td>0.0</td>\n",
       "      <td>0.0</td>\n",
       "      <td>0.0</td>\n",
       "      <td>SG</td>\n",
       "      <td>-11.9</td>\n",
       "      <td>0.000</td>\n",
       "      <td>-21.2</td>\n",
       "      <td>-0.323</td>\n",
       "      <td>1</td>\n",
       "    </tr>\n",
       "    <tr>\n",
       "      <th>12</th>\n",
       "      <td>Kostas Antetokounmpo</td>\n",
       "      <td>LAL</td>\n",
       "      <td>2021</td>\n",
       "      <td>3</td>\n",
       "      <td>6.3</td>\n",
       "      <td>0.333</td>\n",
       "      <td>0.000</td>\n",
       "      <td>2.7</td>\n",
       "      <td>0.0</td>\n",
       "      <td>0.3</td>\n",
       "      <td>0.7</td>\n",
       "      <td>1.0</td>\n",
       "      <td>PF</td>\n",
       "      <td>-0.2</td>\n",
       "      <td>0.387</td>\n",
       "      <td>-12.3</td>\n",
       "      <td>-0.202</td>\n",
       "      <td>0</td>\n",
       "    </tr>\n",
       "    <tr>\n",
       "      <th>13</th>\n",
       "      <td>Thanasis Antetokounmpo</td>\n",
       "      <td>MIL</td>\n",
       "      <td>2021</td>\n",
       "      <td>27</td>\n",
       "      <td>8.9</td>\n",
       "      <td>0.609</td>\n",
       "      <td>0.222</td>\n",
       "      <td>2.1</td>\n",
       "      <td>0.7</td>\n",
       "      <td>0.3</td>\n",
       "      <td>0.2</td>\n",
       "      <td>2.4</td>\n",
       "      <td>SF</td>\n",
       "      <td>11.3</td>\n",
       "      <td>0.619</td>\n",
       "      <td>-2.8</td>\n",
       "      <td>0.090</td>\n",
       "      <td>1</td>\n",
       "    </tr>\n",
       "    <tr>\n",
       "      <th>21</th>\n",
       "      <td>Udoka Azubuike</td>\n",
       "      <td>UTA</td>\n",
       "      <td>2021</td>\n",
       "      <td>12</td>\n",
       "      <td>4.1</td>\n",
       "      <td>0.571</td>\n",
       "      <td>0.000</td>\n",
       "      <td>1.1</td>\n",
       "      <td>0.0</td>\n",
       "      <td>0.1</td>\n",
       "      <td>0.3</td>\n",
       "      <td>1.0</td>\n",
       "      <td>C</td>\n",
       "      <td>10.6</td>\n",
       "      <td>0.622</td>\n",
       "      <td>-4.3</td>\n",
       "      <td>0.107</td>\n",
       "      <td>1</td>\n",
       "    </tr>\n",
       "  </tbody>\n",
       "</table>\n",
       "</div>"
      ],
      "text/plain": [
       "                      name team  year  games_played  mpg    fg%  3pfg%  \\\n",
       "1             Jaylen Adams  MIL  2021             7  2.6  0.125  0.000   \n",
       "5        Ty-Shon Alexander  PHO  2021             3  2.7  0.000  0.000   \n",
       "12    Kostas Antetokounmpo  LAL  2021             3  6.3  0.333  0.000   \n",
       "13  Thanasis Antetokounmpo  MIL  2021            27  8.9  0.609  0.222   \n",
       "21          Udoka Azubuike  UTA  2021            12  4.1  0.571  0.000   \n",
       "\n",
       "    rebounds  assists  steals  blocks  points_per_game position  \\\n",
       "1        0.4      0.3     0.0     0.0              0.3       PG   \n",
       "5        0.3      0.3     0.0     0.0              0.0       SG   \n",
       "12       2.7      0.0     0.3     0.7              1.0       PF   \n",
       "13       2.1      0.7     0.3     0.2              2.4       SF   \n",
       "21       1.1      0.0     0.1     0.3              1.0        C   \n",
       "\n",
       "    player_efficiency  true_shooting  plus_minus  win_shares_percentage  \\\n",
       "1                -6.6          0.125       -19.8                 -0.250   \n",
       "5               -11.9          0.000       -21.2                 -0.323   \n",
       "12               -0.2          0.387       -12.3                 -0.202   \n",
       "13               11.3          0.619        -2.8                  0.090   \n",
       "21               10.6          0.622        -4.3                  0.107   \n",
       "\n",
       "    is_playoff_caliber  \n",
       "1                    1  \n",
       "5                    1  \n",
       "12                   0  \n",
       "13                   1  \n",
       "21                   1  "
      ]
     },
     "execution_count": 62,
     "metadata": {},
     "output_type": "execute_result"
    }
   ],
   "source": [
    "#scaling our 2021 data so it will align correctly with the model\n",
    "res_2021_sc = ss.fit_transform(reserve_players_2021[features])\n",
    "\n",
    "#creating the predictions variable for our 2021 data:\n",
    "preds_res = sv_grid_res.predict(res_2021_sc)\n",
    "\n",
    "#setting a column playoff caliber column:\n",
    "reserve_players_2021['is_playoff_caliber'] = preds_res\n",
    "\n",
    "#checking our new data\n",
    "reserve_players_2021.head()"
   ]
  },
  {
   "cell_type": "markdown",
   "metadata": {},
   "source": [
    "### Merging Predictions"
   ]
  },
  {
   "cell_type": "markdown",
   "metadata": {},
   "source": [
    "Now that we have all the players evaluated with our model, let's concatenate them all together. This way we will be able to analyze on a per team basis and build our team recommendation based on the predictions generated by our model for each tier "
   ]
  },
  {
   "cell_type": "code",
   "execution_count": 63,
   "metadata": {},
   "outputs": [
    {
     "data": {
      "text/html": [
       "<div>\n",
       "<style scoped>\n",
       "    .dataframe tbody tr th:only-of-type {\n",
       "        vertical-align: middle;\n",
       "    }\n",
       "\n",
       "    .dataframe tbody tr th {\n",
       "        vertical-align: top;\n",
       "    }\n",
       "\n",
       "    .dataframe thead th {\n",
       "        text-align: right;\n",
       "    }\n",
       "</style>\n",
       "<table border=\"1\" class=\"dataframe\">\n",
       "  <thead>\n",
       "    <tr style=\"text-align: right;\">\n",
       "      <th></th>\n",
       "      <th>name</th>\n",
       "      <th>team</th>\n",
       "      <th>year</th>\n",
       "      <th>games_played</th>\n",
       "      <th>mpg</th>\n",
       "      <th>fg%</th>\n",
       "      <th>3pfg%</th>\n",
       "      <th>rebounds</th>\n",
       "      <th>assists</th>\n",
       "      <th>steals</th>\n",
       "      <th>blocks</th>\n",
       "      <th>points_per_game</th>\n",
       "      <th>position</th>\n",
       "      <th>player_efficiency</th>\n",
       "      <th>true_shooting</th>\n",
       "      <th>plus_minus</th>\n",
       "      <th>win_shares_percentage</th>\n",
       "      <th>is_playoff_caliber</th>\n",
       "    </tr>\n",
       "  </thead>\n",
       "  <tbody>\n",
       "    <tr>\n",
       "      <th>3</th>\n",
       "      <td>Bam Adebayo</td>\n",
       "      <td>MIA</td>\n",
       "      <td>2021</td>\n",
       "      <td>33</td>\n",
       "      <td>33.9</td>\n",
       "      <td>0.563</td>\n",
       "      <td>0.333</td>\n",
       "      <td>9.5</td>\n",
       "      <td>5.4</td>\n",
       "      <td>0.9</td>\n",
       "      <td>1.0</td>\n",
       "      <td>19.2</td>\n",
       "      <td>C</td>\n",
       "      <td>22.0</td>\n",
       "      <td>0.631</td>\n",
       "      <td>4.4</td>\n",
       "      <td>0.193</td>\n",
       "      <td>1</td>\n",
       "    </tr>\n",
       "    <tr>\n",
       "      <th>11</th>\n",
       "      <td>Giannis Antetokounmpo</td>\n",
       "      <td>MIL</td>\n",
       "      <td>2021</td>\n",
       "      <td>36</td>\n",
       "      <td>33.8</td>\n",
       "      <td>0.559</td>\n",
       "      <td>0.290</td>\n",
       "      <td>11.6</td>\n",
       "      <td>6.0</td>\n",
       "      <td>1.3</td>\n",
       "      <td>1.4</td>\n",
       "      <td>28.9</td>\n",
       "      <td>PF</td>\n",
       "      <td>29.2</td>\n",
       "      <td>0.622</td>\n",
       "      <td>8.4</td>\n",
       "      <td>0.241</td>\n",
       "      <td>1</td>\n",
       "    </tr>\n",
       "    <tr>\n",
       "      <th>16</th>\n",
       "      <td>OG Anunoby</td>\n",
       "      <td>TOR</td>\n",
       "      <td>2021</td>\n",
       "      <td>23</td>\n",
       "      <td>33.4</td>\n",
       "      <td>0.479</td>\n",
       "      <td>0.395</td>\n",
       "      <td>5.7</td>\n",
       "      <td>1.7</td>\n",
       "      <td>1.6</td>\n",
       "      <td>0.7</td>\n",
       "      <td>13.8</td>\n",
       "      <td>SF</td>\n",
       "      <td>13.8</td>\n",
       "      <td>0.607</td>\n",
       "      <td>0.2</td>\n",
       "      <td>0.097</td>\n",
       "      <td>0</td>\n",
       "    </tr>\n",
       "    <tr>\n",
       "      <th>20</th>\n",
       "      <td>Deandre Ayton</td>\n",
       "      <td>PHO</td>\n",
       "      <td>2021</td>\n",
       "      <td>36</td>\n",
       "      <td>30.8</td>\n",
       "      <td>0.595</td>\n",
       "      <td>0.235</td>\n",
       "      <td>11.2</td>\n",
       "      <td>1.6</td>\n",
       "      <td>0.3</td>\n",
       "      <td>1.1</td>\n",
       "      <td>14.4</td>\n",
       "      <td>C</td>\n",
       "      <td>18.8</td>\n",
       "      <td>0.623</td>\n",
       "      <td>-0.4</td>\n",
       "      <td>0.172</td>\n",
       "      <td>1</td>\n",
       "    </tr>\n",
       "    <tr>\n",
       "      <th>25</th>\n",
       "      <td>Lonzo Ball</td>\n",
       "      <td>NOP</td>\n",
       "      <td>2021</td>\n",
       "      <td>34</td>\n",
       "      <td>31.6</td>\n",
       "      <td>0.423</td>\n",
       "      <td>0.385</td>\n",
       "      <td>4.1</td>\n",
       "      <td>5.1</td>\n",
       "      <td>1.3</td>\n",
       "      <td>0.6</td>\n",
       "      <td>14.4</td>\n",
       "      <td>PG</td>\n",
       "      <td>15.0</td>\n",
       "      <td>0.557</td>\n",
       "      <td>0.7</td>\n",
       "      <td>0.080</td>\n",
       "      <td>0</td>\n",
       "    </tr>\n",
       "  </tbody>\n",
       "</table>\n",
       "</div>"
      ],
      "text/plain": [
       "                     name team  year  games_played   mpg    fg%  3pfg%  \\\n",
       "3             Bam Adebayo  MIA  2021            33  33.9  0.563  0.333   \n",
       "11  Giannis Antetokounmpo  MIL  2021            36  33.8  0.559  0.290   \n",
       "16             OG Anunoby  TOR  2021            23  33.4  0.479  0.395   \n",
       "20          Deandre Ayton  PHO  2021            36  30.8  0.595  0.235   \n",
       "25             Lonzo Ball  NOP  2021            34  31.6  0.423  0.385   \n",
       "\n",
       "    rebounds  assists  steals  blocks  points_per_game position  \\\n",
       "3        9.5      5.4     0.9     1.0             19.2        C   \n",
       "11      11.6      6.0     1.3     1.4             28.9       PF   \n",
       "16       5.7      1.7     1.6     0.7             13.8       SF   \n",
       "20      11.2      1.6     0.3     1.1             14.4        C   \n",
       "25       4.1      5.1     1.3     0.6             14.4       PG   \n",
       "\n",
       "    player_efficiency  true_shooting  plus_minus  win_shares_percentage  \\\n",
       "3                22.0          0.631         4.4                  0.193   \n",
       "11               29.2          0.622         8.4                  0.241   \n",
       "16               13.8          0.607         0.2                  0.097   \n",
       "20               18.8          0.623        -0.4                  0.172   \n",
       "25               15.0          0.557         0.7                  0.080   \n",
       "\n",
       "    is_playoff_caliber  \n",
       "3                    1  \n",
       "11                   1  \n",
       "16                   0  \n",
       "20                   1  \n",
       "25                   0  "
      ]
     },
     "execution_count": 63,
     "metadata": {},
     "output_type": "execute_result"
    }
   ],
   "source": [
    "df=pd.concat([major_players_2021, core_players_2021, rotational_players_2021, reserve_players_2021])\n",
    "#saving as a csv as well:\n",
    "# `df.to_csv('data/2021_players_predictions.csv')\n",
    "df.head()"
   ]
  },
  {
   "cell_type": "markdown",
   "metadata": {},
   "source": [
    "## Analysis"
   ]
  },
  {
   "cell_type": "markdown",
   "metadata": {},
   "source": [
    "First, before examining our team in question, the Boston Celtics, let's take a look at some examples to make sure that our model was effective with it's predictions. Assuming our methods make sense we should see most of the first place teams with high presence of \"playoff caliber\" players while teams with less favorable records at the moment should have comparatively much less. Let's take a look at the Western Conference, at this moment in time the Utah Jazz are atop the standings with a record of 27-9 while the Minnesota Timberwolves are a measly 8-29. Let's use these two extremes to test our theory:"
   ]
  },
  {
   "cell_type": "code",
   "execution_count": 64,
   "metadata": {},
   "outputs": [
    {
     "name": "stdout",
     "output_type": "stream",
     "text": [
      "1    14\n",
      "0     2\n",
      "Name: is_playoff_caliber, dtype: int64\n"
     ]
    },
    {
     "data": {
      "text/html": [
       "<div>\n",
       "<style scoped>\n",
       "    .dataframe tbody tr th:only-of-type {\n",
       "        vertical-align: middle;\n",
       "    }\n",
       "\n",
       "    .dataframe tbody tr th {\n",
       "        vertical-align: top;\n",
       "    }\n",
       "\n",
       "    .dataframe thead th {\n",
       "        text-align: right;\n",
       "    }\n",
       "</style>\n",
       "<table border=\"1\" class=\"dataframe\">\n",
       "  <thead>\n",
       "    <tr style=\"text-align: right;\">\n",
       "      <th></th>\n",
       "      <th>name</th>\n",
       "      <th>team</th>\n",
       "      <th>year</th>\n",
       "      <th>games_played</th>\n",
       "      <th>mpg</th>\n",
       "      <th>fg%</th>\n",
       "      <th>3pfg%</th>\n",
       "      <th>rebounds</th>\n",
       "      <th>assists</th>\n",
       "      <th>steals</th>\n",
       "      <th>blocks</th>\n",
       "      <th>points_per_game</th>\n",
       "      <th>position</th>\n",
       "      <th>player_efficiency</th>\n",
       "      <th>true_shooting</th>\n",
       "      <th>plus_minus</th>\n",
       "      <th>win_shares_percentage</th>\n",
       "      <th>is_playoff_caliber</th>\n",
       "    </tr>\n",
       "  </thead>\n",
       "  <tbody>\n",
       "    <tr>\n",
       "      <th>51</th>\n",
       "      <td>Bojan Bogdanović</td>\n",
       "      <td>UTA</td>\n",
       "      <td>2021</td>\n",
       "      <td>36</td>\n",
       "      <td>30.6</td>\n",
       "      <td>0.432</td>\n",
       "      <td>0.405</td>\n",
       "      <td>3.9</td>\n",
       "      <td>1.9</td>\n",
       "      <td>0.5</td>\n",
       "      <td>0.1</td>\n",
       "      <td>15.7</td>\n",
       "      <td>SF</td>\n",
       "      <td>13.3</td>\n",
       "      <td>0.587</td>\n",
       "      <td>-0.7</td>\n",
       "      <td>0.114</td>\n",
       "      <td>1</td>\n",
       "    </tr>\n",
       "    <tr>\n",
       "      <th>162</th>\n",
       "      <td>Rudy Gobert</td>\n",
       "      <td>UTA</td>\n",
       "      <td>2021</td>\n",
       "      <td>36</td>\n",
       "      <td>30.7</td>\n",
       "      <td>0.641</td>\n",
       "      <td>0.000</td>\n",
       "      <td>13.1</td>\n",
       "      <td>1.3</td>\n",
       "      <td>0.5</td>\n",
       "      <td>2.7</td>\n",
       "      <td>14.2</td>\n",
       "      <td>C</td>\n",
       "      <td>22.5</td>\n",
       "      <td>0.649</td>\n",
       "      <td>3.4</td>\n",
       "      <td>0.220</td>\n",
       "      <td>0</td>\n",
       "    </tr>\n",
       "    <tr>\n",
       "      <th>316</th>\n",
       "      <td>Donovan Mitchell</td>\n",
       "      <td>UTA</td>\n",
       "      <td>2021</td>\n",
       "      <td>34</td>\n",
       "      <td>33.9</td>\n",
       "      <td>0.421</td>\n",
       "      <td>0.382</td>\n",
       "      <td>4.7</td>\n",
       "      <td>5.4</td>\n",
       "      <td>1.0</td>\n",
       "      <td>0.3</td>\n",
       "      <td>24.7</td>\n",
       "      <td>SG</td>\n",
       "      <td>18.9</td>\n",
       "      <td>0.549</td>\n",
       "      <td>1.7</td>\n",
       "      <td>0.134</td>\n",
       "      <td>1</td>\n",
       "    </tr>\n",
       "    <tr>\n",
       "      <th>343</th>\n",
       "      <td>Royce O'Neale</td>\n",
       "      <td>UTA</td>\n",
       "      <td>2021</td>\n",
       "      <td>36</td>\n",
       "      <td>32.8</td>\n",
       "      <td>0.441</td>\n",
       "      <td>0.411</td>\n",
       "      <td>6.8</td>\n",
       "      <td>2.6</td>\n",
       "      <td>0.8</td>\n",
       "      <td>0.6</td>\n",
       "      <td>7.6</td>\n",
       "      <td>SF</td>\n",
       "      <td>10.0</td>\n",
       "      <td>0.606</td>\n",
       "      <td>0.4</td>\n",
       "      <td>0.120</td>\n",
       "      <td>1</td>\n",
       "    </tr>\n",
       "    <tr>\n",
       "      <th>94</th>\n",
       "      <td>Jordan Clarkson</td>\n",
       "      <td>UTA</td>\n",
       "      <td>2021</td>\n",
       "      <td>36</td>\n",
       "      <td>26.0</td>\n",
       "      <td>0.447</td>\n",
       "      <td>0.370</td>\n",
       "      <td>4.0</td>\n",
       "      <td>2.3</td>\n",
       "      <td>0.9</td>\n",
       "      <td>0.2</td>\n",
       "      <td>17.9</td>\n",
       "      <td>SG</td>\n",
       "      <td>18.7</td>\n",
       "      <td>0.581</td>\n",
       "      <td>2.7</td>\n",
       "      <td>0.137</td>\n",
       "      <td>1</td>\n",
       "    </tr>\n",
       "    <tr>\n",
       "      <th>98</th>\n",
       "      <td>Mike Conley</td>\n",
       "      <td>UTA</td>\n",
       "      <td>2021</td>\n",
       "      <td>29</td>\n",
       "      <td>29.4</td>\n",
       "      <td>0.444</td>\n",
       "      <td>0.422</td>\n",
       "      <td>3.5</td>\n",
       "      <td>5.7</td>\n",
       "      <td>1.4</td>\n",
       "      <td>0.1</td>\n",
       "      <td>16.1</td>\n",
       "      <td>PG</td>\n",
       "      <td>19.2</td>\n",
       "      <td>0.588</td>\n",
       "      <td>3.9</td>\n",
       "      <td>0.194</td>\n",
       "      <td>1</td>\n",
       "    </tr>\n",
       "    <tr>\n",
       "      <th>219</th>\n",
       "      <td>Joe Ingles</td>\n",
       "      <td>UTA</td>\n",
       "      <td>2021</td>\n",
       "      <td>32</td>\n",
       "      <td>26.4</td>\n",
       "      <td>0.522</td>\n",
       "      <td>0.465</td>\n",
       "      <td>3.3</td>\n",
       "      <td>4.4</td>\n",
       "      <td>0.5</td>\n",
       "      <td>0.3</td>\n",
       "      <td>11.5</td>\n",
       "      <td>SF</td>\n",
       "      <td>16.5</td>\n",
       "      <td>0.705</td>\n",
       "      <td>3.9</td>\n",
       "      <td>0.190</td>\n",
       "      <td>1</td>\n",
       "    </tr>\n",
       "    <tr>\n",
       "      <th>137</th>\n",
       "      <td>Derrick Favors</td>\n",
       "      <td>UTA</td>\n",
       "      <td>2021</td>\n",
       "      <td>34</td>\n",
       "      <td>16.2</td>\n",
       "      <td>0.649</td>\n",
       "      <td>0.000</td>\n",
       "      <td>5.5</td>\n",
       "      <td>0.8</td>\n",
       "      <td>0.5</td>\n",
       "      <td>0.9</td>\n",
       "      <td>6.3</td>\n",
       "      <td>C</td>\n",
       "      <td>20.2</td>\n",
       "      <td>0.689</td>\n",
       "      <td>2.3</td>\n",
       "      <td>0.244</td>\n",
       "      <td>1</td>\n",
       "    </tr>\n",
       "    <tr>\n",
       "      <th>334</th>\n",
       "      <td>Georges Niang</td>\n",
       "      <td>UTA</td>\n",
       "      <td>2021</td>\n",
       "      <td>36</td>\n",
       "      <td>13.4</td>\n",
       "      <td>0.431</td>\n",
       "      <td>0.385</td>\n",
       "      <td>2.2</td>\n",
       "      <td>0.7</td>\n",
       "      <td>0.3</td>\n",
       "      <td>0.1</td>\n",
       "      <td>5.4</td>\n",
       "      <td>PF</td>\n",
       "      <td>9.9</td>\n",
       "      <td>0.573</td>\n",
       "      <td>-1.9</td>\n",
       "      <td>0.081</td>\n",
       "      <td>1</td>\n",
       "    </tr>\n",
       "    <tr>\n",
       "      <th>21</th>\n",
       "      <td>Udoka Azubuike</td>\n",
       "      <td>UTA</td>\n",
       "      <td>2021</td>\n",
       "      <td>12</td>\n",
       "      <td>4.1</td>\n",
       "      <td>0.571</td>\n",
       "      <td>0.000</td>\n",
       "      <td>1.1</td>\n",
       "      <td>0.0</td>\n",
       "      <td>0.1</td>\n",
       "      <td>0.3</td>\n",
       "      <td>1.0</td>\n",
       "      <td>C</td>\n",
       "      <td>10.6</td>\n",
       "      <td>0.622</td>\n",
       "      <td>-4.3</td>\n",
       "      <td>0.107</td>\n",
       "      <td>1</td>\n",
       "    </tr>\n",
       "    <tr>\n",
       "      <th>61</th>\n",
       "      <td>Jarrell Brantley</td>\n",
       "      <td>UTA</td>\n",
       "      <td>2021</td>\n",
       "      <td>10</td>\n",
       "      <td>2.8</td>\n",
       "      <td>0.400</td>\n",
       "      <td>0.429</td>\n",
       "      <td>0.7</td>\n",
       "      <td>0.0</td>\n",
       "      <td>0.1</td>\n",
       "      <td>0.1</td>\n",
       "      <td>1.1</td>\n",
       "      <td>PF</td>\n",
       "      <td>11.7</td>\n",
       "      <td>0.550</td>\n",
       "      <td>-1.3</td>\n",
       "      <td>0.103</td>\n",
       "      <td>1</td>\n",
       "    </tr>\n",
       "    <tr>\n",
       "      <th>145</th>\n",
       "      <td>Trent Forrest</td>\n",
       "      <td>UTA</td>\n",
       "      <td>2021</td>\n",
       "      <td>7</td>\n",
       "      <td>2.9</td>\n",
       "      <td>0.000</td>\n",
       "      <td>0.000</td>\n",
       "      <td>0.3</td>\n",
       "      <td>0.6</td>\n",
       "      <td>0.3</td>\n",
       "      <td>0.0</td>\n",
       "      <td>0.3</td>\n",
       "      <td>PG</td>\n",
       "      <td>6.7</td>\n",
       "      <td>0.258</td>\n",
       "      <td>-3.0</td>\n",
       "      <td>0.044</td>\n",
       "      <td>1</td>\n",
       "    </tr>\n",
       "    <tr>\n",
       "      <th>190</th>\n",
       "      <td>Shaquille Harrison</td>\n",
       "      <td>UTA</td>\n",
       "      <td>2021</td>\n",
       "      <td>17</td>\n",
       "      <td>3.3</td>\n",
       "      <td>0.300</td>\n",
       "      <td>0.000</td>\n",
       "      <td>0.5</td>\n",
       "      <td>0.5</td>\n",
       "      <td>0.1</td>\n",
       "      <td>0.0</td>\n",
       "      <td>1.0</td>\n",
       "      <td>SG</td>\n",
       "      <td>6.6</td>\n",
       "      <td>0.375</td>\n",
       "      <td>-7.9</td>\n",
       "      <td>-0.035</td>\n",
       "      <td>1</td>\n",
       "    </tr>\n",
       "    <tr>\n",
       "      <th>214</th>\n",
       "      <td>Elijah Hughes</td>\n",
       "      <td>UTA</td>\n",
       "      <td>2021</td>\n",
       "      <td>6</td>\n",
       "      <td>4.5</td>\n",
       "      <td>0.333</td>\n",
       "      <td>0.300</td>\n",
       "      <td>0.7</td>\n",
       "      <td>0.5</td>\n",
       "      <td>0.2</td>\n",
       "      <td>0.2</td>\n",
       "      <td>2.7</td>\n",
       "      <td>SF</td>\n",
       "      <td>9.7</td>\n",
       "      <td>0.477</td>\n",
       "      <td>-4.5</td>\n",
       "      <td>-0.070</td>\n",
       "      <td>0</td>\n",
       "    </tr>\n",
       "    <tr>\n",
       "      <th>321</th>\n",
       "      <td>Juwan Morgan</td>\n",
       "      <td>UTA</td>\n",
       "      <td>2021</td>\n",
       "      <td>15</td>\n",
       "      <td>4.7</td>\n",
       "      <td>0.429</td>\n",
       "      <td>0.300</td>\n",
       "      <td>0.9</td>\n",
       "      <td>0.3</td>\n",
       "      <td>0.2</td>\n",
       "      <td>0.0</td>\n",
       "      <td>1.1</td>\n",
       "      <td>PF</td>\n",
       "      <td>7.2</td>\n",
       "      <td>0.494</td>\n",
       "      <td>-2.6</td>\n",
       "      <td>0.084</td>\n",
       "      <td>1</td>\n",
       "    </tr>\n",
       "    <tr>\n",
       "      <th>353</th>\n",
       "      <td>Miye Oni</td>\n",
       "      <td>UTA</td>\n",
       "      <td>2021</td>\n",
       "      <td>26</td>\n",
       "      <td>7.9</td>\n",
       "      <td>0.368</td>\n",
       "      <td>0.394</td>\n",
       "      <td>1.8</td>\n",
       "      <td>0.2</td>\n",
       "      <td>0.1</td>\n",
       "      <td>0.2</td>\n",
       "      <td>1.8</td>\n",
       "      <td>SG</td>\n",
       "      <td>7.5</td>\n",
       "      <td>0.566</td>\n",
       "      <td>-2.5</td>\n",
       "      <td>0.097</td>\n",
       "      <td>1</td>\n",
       "    </tr>\n",
       "  </tbody>\n",
       "</table>\n",
       "</div>"
      ],
      "text/plain": [
       "                   name team  year  games_played   mpg    fg%  3pfg%  \\\n",
       "51     Bojan Bogdanović  UTA  2021            36  30.6  0.432  0.405   \n",
       "162         Rudy Gobert  UTA  2021            36  30.7  0.641  0.000   \n",
       "316    Donovan Mitchell  UTA  2021            34  33.9  0.421  0.382   \n",
       "343       Royce O'Neale  UTA  2021            36  32.8  0.441  0.411   \n",
       "94      Jordan Clarkson  UTA  2021            36  26.0  0.447  0.370   \n",
       "98          Mike Conley  UTA  2021            29  29.4  0.444  0.422   \n",
       "219          Joe Ingles  UTA  2021            32  26.4  0.522  0.465   \n",
       "137      Derrick Favors  UTA  2021            34  16.2  0.649  0.000   \n",
       "334       Georges Niang  UTA  2021            36  13.4  0.431  0.385   \n",
       "21       Udoka Azubuike  UTA  2021            12   4.1  0.571  0.000   \n",
       "61     Jarrell Brantley  UTA  2021            10   2.8  0.400  0.429   \n",
       "145       Trent Forrest  UTA  2021             7   2.9  0.000  0.000   \n",
       "190  Shaquille Harrison  UTA  2021            17   3.3  0.300  0.000   \n",
       "214       Elijah Hughes  UTA  2021             6   4.5  0.333  0.300   \n",
       "321        Juwan Morgan  UTA  2021            15   4.7  0.429  0.300   \n",
       "353            Miye Oni  UTA  2021            26   7.9  0.368  0.394   \n",
       "\n",
       "     rebounds  assists  steals  blocks  points_per_game position  \\\n",
       "51        3.9      1.9     0.5     0.1             15.7       SF   \n",
       "162      13.1      1.3     0.5     2.7             14.2        C   \n",
       "316       4.7      5.4     1.0     0.3             24.7       SG   \n",
       "343       6.8      2.6     0.8     0.6              7.6       SF   \n",
       "94        4.0      2.3     0.9     0.2             17.9       SG   \n",
       "98        3.5      5.7     1.4     0.1             16.1       PG   \n",
       "219       3.3      4.4     0.5     0.3             11.5       SF   \n",
       "137       5.5      0.8     0.5     0.9              6.3        C   \n",
       "334       2.2      0.7     0.3     0.1              5.4       PF   \n",
       "21        1.1      0.0     0.1     0.3              1.0        C   \n",
       "61        0.7      0.0     0.1     0.1              1.1       PF   \n",
       "145       0.3      0.6     0.3     0.0              0.3       PG   \n",
       "190       0.5      0.5     0.1     0.0              1.0       SG   \n",
       "214       0.7      0.5     0.2     0.2              2.7       SF   \n",
       "321       0.9      0.3     0.2     0.0              1.1       PF   \n",
       "353       1.8      0.2     0.1     0.2              1.8       SG   \n",
       "\n",
       "     player_efficiency  true_shooting  plus_minus  win_shares_percentage  \\\n",
       "51                13.3          0.587        -0.7                  0.114   \n",
       "162               22.5          0.649         3.4                  0.220   \n",
       "316               18.9          0.549         1.7                  0.134   \n",
       "343               10.0          0.606         0.4                  0.120   \n",
       "94                18.7          0.581         2.7                  0.137   \n",
       "98                19.2          0.588         3.9                  0.194   \n",
       "219               16.5          0.705         3.9                  0.190   \n",
       "137               20.2          0.689         2.3                  0.244   \n",
       "334                9.9          0.573        -1.9                  0.081   \n",
       "21                10.6          0.622        -4.3                  0.107   \n",
       "61                11.7          0.550        -1.3                  0.103   \n",
       "145                6.7          0.258        -3.0                  0.044   \n",
       "190                6.6          0.375        -7.9                 -0.035   \n",
       "214                9.7          0.477        -4.5                 -0.070   \n",
       "321                7.2          0.494        -2.6                  0.084   \n",
       "353                7.5          0.566        -2.5                  0.097   \n",
       "\n",
       "     is_playoff_caliber  \n",
       "51                    1  \n",
       "162                   0  \n",
       "316                   1  \n",
       "343                   1  \n",
       "94                    1  \n",
       "98                    1  \n",
       "219                   1  \n",
       "137                   1  \n",
       "334                   1  \n",
       "21                    1  \n",
       "61                    1  \n",
       "145                   1  \n",
       "190                   1  \n",
       "214                   0  \n",
       "321                   1  \n",
       "353                   1  "
      ]
     },
     "execution_count": 64,
     "metadata": {},
     "output_type": "execute_result"
    }
   ],
   "source": [
    "print(df[df['team'] == 'UTA'].is_playoff_caliber.value_counts())\n",
    "df[df['team'] == 'UTA']"
   ]
  },
  {
   "cell_type": "markdown",
   "metadata": {},
   "source": [
    "14 Playoff caliber players with only 2 non-playoff caliber players. Pretty solid team build I would say. Now let's check in on the TWolves "
   ]
  },
  {
   "cell_type": "code",
   "execution_count": 65,
   "metadata": {},
   "outputs": [
    {
     "name": "stdout",
     "output_type": "stream",
     "text": [
      "0    14\n",
      "1     2\n",
      "Name: is_playoff_caliber, dtype: int64\n"
     ]
    },
    {
     "data": {
      "text/html": [
       "<div>\n",
       "<style scoped>\n",
       "    .dataframe tbody tr th:only-of-type {\n",
       "        vertical-align: middle;\n",
       "    }\n",
       "\n",
       "    .dataframe tbody tr th {\n",
       "        vertical-align: top;\n",
       "    }\n",
       "\n",
       "    .dataframe thead th {\n",
       "        text-align: right;\n",
       "    }\n",
       "</style>\n",
       "<table border=\"1\" class=\"dataframe\">\n",
       "  <thead>\n",
       "    <tr style=\"text-align: right;\">\n",
       "      <th></th>\n",
       "      <th>name</th>\n",
       "      <th>team</th>\n",
       "      <th>year</th>\n",
       "      <th>games_played</th>\n",
       "      <th>mpg</th>\n",
       "      <th>fg%</th>\n",
       "      <th>3pfg%</th>\n",
       "      <th>rebounds</th>\n",
       "      <th>assists</th>\n",
       "      <th>steals</th>\n",
       "      <th>blocks</th>\n",
       "      <th>points_per_game</th>\n",
       "      <th>position</th>\n",
       "      <th>player_efficiency</th>\n",
       "      <th>true_shooting</th>\n",
       "      <th>plus_minus</th>\n",
       "      <th>win_shares_percentage</th>\n",
       "      <th>is_playoff_caliber</th>\n",
       "    </tr>\n",
       "  </thead>\n",
       "  <tbody>\n",
       "    <tr>\n",
       "      <th>37</th>\n",
       "      <td>Malik Beasley</td>\n",
       "      <td>MIN</td>\n",
       "      <td>2021</td>\n",
       "      <td>33</td>\n",
       "      <td>33.1</td>\n",
       "      <td>0.455</td>\n",
       "      <td>0.406</td>\n",
       "      <td>4.6</td>\n",
       "      <td>2.5</td>\n",
       "      <td>0.8</td>\n",
       "      <td>0.2</td>\n",
       "      <td>20.5</td>\n",
       "      <td>SG</td>\n",
       "      <td>15.9</td>\n",
       "      <td>0.582</td>\n",
       "      <td>0.3</td>\n",
       "      <td>0.073</td>\n",
       "      <td>0</td>\n",
       "    </tr>\n",
       "    <tr>\n",
       "      <th>446</th>\n",
       "      <td>Karl-Anthony Towns</td>\n",
       "      <td>MIN</td>\n",
       "      <td>2021</td>\n",
       "      <td>17</td>\n",
       "      <td>32.5</td>\n",
       "      <td>0.485</td>\n",
       "      <td>0.356</td>\n",
       "      <td>10.7</td>\n",
       "      <td>3.8</td>\n",
       "      <td>0.8</td>\n",
       "      <td>1.7</td>\n",
       "      <td>21.6</td>\n",
       "      <td>C</td>\n",
       "      <td>21.8</td>\n",
       "      <td>0.598</td>\n",
       "      <td>3.2</td>\n",
       "      <td>0.128</td>\n",
       "      <td>0</td>\n",
       "    </tr>\n",
       "    <tr>\n",
       "      <th>128</th>\n",
       "      <td>Anthony Edwards</td>\n",
       "      <td>MIN</td>\n",
       "      <td>2021</td>\n",
       "      <td>37</td>\n",
       "      <td>29.3</td>\n",
       "      <td>0.374</td>\n",
       "      <td>0.304</td>\n",
       "      <td>4.0</td>\n",
       "      <td>2.5</td>\n",
       "      <td>0.9</td>\n",
       "      <td>0.4</td>\n",
       "      <td>15.2</td>\n",
       "      <td>SG</td>\n",
       "      <td>10.0</td>\n",
       "      <td>0.469</td>\n",
       "      <td>-5.1</td>\n",
       "      <td>-0.038</td>\n",
       "      <td>0</td>\n",
       "    </tr>\n",
       "    <tr>\n",
       "      <th>389</th>\n",
       "      <td>Naz Reid</td>\n",
       "      <td>MIN</td>\n",
       "      <td>2021</td>\n",
       "      <td>35</td>\n",
       "      <td>20.7</td>\n",
       "      <td>0.522</td>\n",
       "      <td>0.340</td>\n",
       "      <td>4.7</td>\n",
       "      <td>1.3</td>\n",
       "      <td>0.7</td>\n",
       "      <td>1.2</td>\n",
       "      <td>11.9</td>\n",
       "      <td>C</td>\n",
       "      <td>18.4</td>\n",
       "      <td>0.599</td>\n",
       "      <td>0.1</td>\n",
       "      <td>0.118</td>\n",
       "      <td>0</td>\n",
       "    </tr>\n",
       "    <tr>\n",
       "      <th>403</th>\n",
       "      <td>Ricky Rubio</td>\n",
       "      <td>MIN</td>\n",
       "      <td>2021</td>\n",
       "      <td>35</td>\n",
       "      <td>25.4</td>\n",
       "      <td>0.384</td>\n",
       "      <td>0.321</td>\n",
       "      <td>3.1</td>\n",
       "      <td>6.5</td>\n",
       "      <td>1.3</td>\n",
       "      <td>0.0</td>\n",
       "      <td>7.9</td>\n",
       "      <td>PG</td>\n",
       "      <td>12.0</td>\n",
       "      <td>0.503</td>\n",
       "      <td>-3.5</td>\n",
       "      <td>0.054</td>\n",
       "      <td>0</td>\n",
       "    </tr>\n",
       "    <tr>\n",
       "      <th>404</th>\n",
       "      <td>D'Angelo Russell</td>\n",
       "      <td>MIN</td>\n",
       "      <td>2021</td>\n",
       "      <td>20</td>\n",
       "      <td>29.2</td>\n",
       "      <td>0.426</td>\n",
       "      <td>0.399</td>\n",
       "      <td>2.6</td>\n",
       "      <td>5.1</td>\n",
       "      <td>1.1</td>\n",
       "      <td>0.5</td>\n",
       "      <td>19.3</td>\n",
       "      <td>PG</td>\n",
       "      <td>16.2</td>\n",
       "      <td>0.544</td>\n",
       "      <td>0.4</td>\n",
       "      <td>0.037</td>\n",
       "      <td>0</td>\n",
       "    </tr>\n",
       "    <tr>\n",
       "      <th>106</th>\n",
       "      <td>Jarrett Culver</td>\n",
       "      <td>MIN</td>\n",
       "      <td>2021</td>\n",
       "      <td>19</td>\n",
       "      <td>19.8</td>\n",
       "      <td>0.422</td>\n",
       "      <td>0.229</td>\n",
       "      <td>4.7</td>\n",
       "      <td>0.8</td>\n",
       "      <td>0.6</td>\n",
       "      <td>0.4</td>\n",
       "      <td>7.2</td>\n",
       "      <td>SG</td>\n",
       "      <td>9.3</td>\n",
       "      <td>0.478</td>\n",
       "      <td>-6.7</td>\n",
       "      <td>-0.004</td>\n",
       "      <td>0</td>\n",
       "    </tr>\n",
       "    <tr>\n",
       "      <th>110</th>\n",
       "      <td>Ed Davis</td>\n",
       "      <td>MIN</td>\n",
       "      <td>2021</td>\n",
       "      <td>19</td>\n",
       "      <td>13.9</td>\n",
       "      <td>0.419</td>\n",
       "      <td>0.000</td>\n",
       "      <td>5.1</td>\n",
       "      <td>1.0</td>\n",
       "      <td>0.5</td>\n",
       "      <td>0.5</td>\n",
       "      <td>2.3</td>\n",
       "      <td>C</td>\n",
       "      <td>12.1</td>\n",
       "      <td>0.462</td>\n",
       "      <td>-3.4</td>\n",
       "      <td>0.117</td>\n",
       "      <td>1</td>\n",
       "    </tr>\n",
       "    <tr>\n",
       "      <th>196</th>\n",
       "      <td>Juan Hernangómez</td>\n",
       "      <td>MIN</td>\n",
       "      <td>2021</td>\n",
       "      <td>18</td>\n",
       "      <td>15.4</td>\n",
       "      <td>0.409</td>\n",
       "      <td>0.315</td>\n",
       "      <td>4.2</td>\n",
       "      <td>0.6</td>\n",
       "      <td>0.3</td>\n",
       "      <td>0.1</td>\n",
       "      <td>5.9</td>\n",
       "      <td>PF</td>\n",
       "      <td>11.6</td>\n",
       "      <td>0.523</td>\n",
       "      <td>-3.4</td>\n",
       "      <td>0.058</td>\n",
       "      <td>0</td>\n",
       "    </tr>\n",
       "    <tr>\n",
       "      <th>259</th>\n",
       "      <td>Jake Layman</td>\n",
       "      <td>MIN</td>\n",
       "      <td>2021</td>\n",
       "      <td>25</td>\n",
       "      <td>15.8</td>\n",
       "      <td>0.516</td>\n",
       "      <td>0.346</td>\n",
       "      <td>1.6</td>\n",
       "      <td>0.6</td>\n",
       "      <td>0.8</td>\n",
       "      <td>0.5</td>\n",
       "      <td>6.6</td>\n",
       "      <td>SF</td>\n",
       "      <td>13.3</td>\n",
       "      <td>0.618</td>\n",
       "      <td>-1.2</td>\n",
       "      <td>0.080</td>\n",
       "      <td>0</td>\n",
       "    </tr>\n",
       "    <tr>\n",
       "      <th>298</th>\n",
       "      <td>Jaden McDaniels</td>\n",
       "      <td>MIN</td>\n",
       "      <td>2021</td>\n",
       "      <td>31</td>\n",
       "      <td>19.3</td>\n",
       "      <td>0.411</td>\n",
       "      <td>0.364</td>\n",
       "      <td>3.4</td>\n",
       "      <td>1.0</td>\n",
       "      <td>0.4</td>\n",
       "      <td>1.1</td>\n",
       "      <td>5.6</td>\n",
       "      <td>PF</td>\n",
       "      <td>8.6</td>\n",
       "      <td>0.516</td>\n",
       "      <td>-3.8</td>\n",
       "      <td>0.031</td>\n",
       "      <td>0</td>\n",
       "    </tr>\n",
       "    <tr>\n",
       "      <th>305</th>\n",
       "      <td>Jordan McLaughlin</td>\n",
       "      <td>MIN</td>\n",
       "      <td>2021</td>\n",
       "      <td>24</td>\n",
       "      <td>19.5</td>\n",
       "      <td>0.376</td>\n",
       "      <td>0.348</td>\n",
       "      <td>2.3</td>\n",
       "      <td>4.7</td>\n",
       "      <td>1.0</td>\n",
       "      <td>0.2</td>\n",
       "      <td>5.4</td>\n",
       "      <td>PG</td>\n",
       "      <td>12.0</td>\n",
       "      <td>0.447</td>\n",
       "      <td>-2.3</td>\n",
       "      <td>0.047</td>\n",
       "      <td>0</td>\n",
       "    </tr>\n",
       "    <tr>\n",
       "      <th>337</th>\n",
       "      <td>Jaylen Nowell</td>\n",
       "      <td>MIN</td>\n",
       "      <td>2021</td>\n",
       "      <td>23</td>\n",
       "      <td>17.2</td>\n",
       "      <td>0.448</td>\n",
       "      <td>0.392</td>\n",
       "      <td>2.0</td>\n",
       "      <td>1.3</td>\n",
       "      <td>0.5</td>\n",
       "      <td>0.2</td>\n",
       "      <td>9.8</td>\n",
       "      <td>SG</td>\n",
       "      <td>14.7</td>\n",
       "      <td>0.567</td>\n",
       "      <td>-1.7</td>\n",
       "      <td>0.081</td>\n",
       "      <td>1</td>\n",
       "    </tr>\n",
       "    <tr>\n",
       "      <th>347</th>\n",
       "      <td>Josh Okogie</td>\n",
       "      <td>MIN</td>\n",
       "      <td>2021</td>\n",
       "      <td>30</td>\n",
       "      <td>19.4</td>\n",
       "      <td>0.343</td>\n",
       "      <td>0.211</td>\n",
       "      <td>2.6</td>\n",
       "      <td>1.1</td>\n",
       "      <td>0.8</td>\n",
       "      <td>0.5</td>\n",
       "      <td>4.7</td>\n",
       "      <td>SG</td>\n",
       "      <td>7.1</td>\n",
       "      <td>0.450</td>\n",
       "      <td>-5.4</td>\n",
       "      <td>0.010</td>\n",
       "      <td>0</td>\n",
       "    </tr>\n",
       "    <tr>\n",
       "      <th>452</th>\n",
       "      <td>Jarred Vanderbilt</td>\n",
       "      <td>MIN</td>\n",
       "      <td>2021</td>\n",
       "      <td>35</td>\n",
       "      <td>19.1</td>\n",
       "      <td>0.601</td>\n",
       "      <td>0.500</td>\n",
       "      <td>5.7</td>\n",
       "      <td>1.6</td>\n",
       "      <td>1.1</td>\n",
       "      <td>0.6</td>\n",
       "      <td>5.9</td>\n",
       "      <td>PF</td>\n",
       "      <td>15.9</td>\n",
       "      <td>0.609</td>\n",
       "      <td>-0.5</td>\n",
       "      <td>0.127</td>\n",
       "      <td>0</td>\n",
       "    </tr>\n",
       "    <tr>\n",
       "      <th>177</th>\n",
       "      <td>Ashton Hagans</td>\n",
       "      <td>MIN</td>\n",
       "      <td>2021</td>\n",
       "      <td>2</td>\n",
       "      <td>2.0</td>\n",
       "      <td>0.000</td>\n",
       "      <td>0.000</td>\n",
       "      <td>0.0</td>\n",
       "      <td>0.0</td>\n",
       "      <td>0.0</td>\n",
       "      <td>0.0</td>\n",
       "      <td>0.0</td>\n",
       "      <td>PG</td>\n",
       "      <td>-12.5</td>\n",
       "      <td>0.000</td>\n",
       "      <td>-21.7</td>\n",
       "      <td>-0.348</td>\n",
       "      <td>0</td>\n",
       "    </tr>\n",
       "  </tbody>\n",
       "</table>\n",
       "</div>"
      ],
      "text/plain": [
       "                   name team  year  games_played   mpg    fg%  3pfg%  \\\n",
       "37        Malik Beasley  MIN  2021            33  33.1  0.455  0.406   \n",
       "446  Karl-Anthony Towns  MIN  2021            17  32.5  0.485  0.356   \n",
       "128     Anthony Edwards  MIN  2021            37  29.3  0.374  0.304   \n",
       "389            Naz Reid  MIN  2021            35  20.7  0.522  0.340   \n",
       "403         Ricky Rubio  MIN  2021            35  25.4  0.384  0.321   \n",
       "404    D'Angelo Russell  MIN  2021            20  29.2  0.426  0.399   \n",
       "106      Jarrett Culver  MIN  2021            19  19.8  0.422  0.229   \n",
       "110            Ed Davis  MIN  2021            19  13.9  0.419  0.000   \n",
       "196    Juan Hernangómez  MIN  2021            18  15.4  0.409  0.315   \n",
       "259         Jake Layman  MIN  2021            25  15.8  0.516  0.346   \n",
       "298     Jaden McDaniels  MIN  2021            31  19.3  0.411  0.364   \n",
       "305   Jordan McLaughlin  MIN  2021            24  19.5  0.376  0.348   \n",
       "337       Jaylen Nowell  MIN  2021            23  17.2  0.448  0.392   \n",
       "347         Josh Okogie  MIN  2021            30  19.4  0.343  0.211   \n",
       "452   Jarred Vanderbilt  MIN  2021            35  19.1  0.601  0.500   \n",
       "177       Ashton Hagans  MIN  2021             2   2.0  0.000  0.000   \n",
       "\n",
       "     rebounds  assists  steals  blocks  points_per_game position  \\\n",
       "37        4.6      2.5     0.8     0.2             20.5       SG   \n",
       "446      10.7      3.8     0.8     1.7             21.6        C   \n",
       "128       4.0      2.5     0.9     0.4             15.2       SG   \n",
       "389       4.7      1.3     0.7     1.2             11.9        C   \n",
       "403       3.1      6.5     1.3     0.0              7.9       PG   \n",
       "404       2.6      5.1     1.1     0.5             19.3       PG   \n",
       "106       4.7      0.8     0.6     0.4              7.2       SG   \n",
       "110       5.1      1.0     0.5     0.5              2.3        C   \n",
       "196       4.2      0.6     0.3     0.1              5.9       PF   \n",
       "259       1.6      0.6     0.8     0.5              6.6       SF   \n",
       "298       3.4      1.0     0.4     1.1              5.6       PF   \n",
       "305       2.3      4.7     1.0     0.2              5.4       PG   \n",
       "337       2.0      1.3     0.5     0.2              9.8       SG   \n",
       "347       2.6      1.1     0.8     0.5              4.7       SG   \n",
       "452       5.7      1.6     1.1     0.6              5.9       PF   \n",
       "177       0.0      0.0     0.0     0.0              0.0       PG   \n",
       "\n",
       "     player_efficiency  true_shooting  plus_minus  win_shares_percentage  \\\n",
       "37                15.9          0.582         0.3                  0.073   \n",
       "446               21.8          0.598         3.2                  0.128   \n",
       "128               10.0          0.469        -5.1                 -0.038   \n",
       "389               18.4          0.599         0.1                  0.118   \n",
       "403               12.0          0.503        -3.5                  0.054   \n",
       "404               16.2          0.544         0.4                  0.037   \n",
       "106                9.3          0.478        -6.7                 -0.004   \n",
       "110               12.1          0.462        -3.4                  0.117   \n",
       "196               11.6          0.523        -3.4                  0.058   \n",
       "259               13.3          0.618        -1.2                  0.080   \n",
       "298                8.6          0.516        -3.8                  0.031   \n",
       "305               12.0          0.447        -2.3                  0.047   \n",
       "337               14.7          0.567        -1.7                  0.081   \n",
       "347                7.1          0.450        -5.4                  0.010   \n",
       "452               15.9          0.609        -0.5                  0.127   \n",
       "177              -12.5          0.000       -21.7                 -0.348   \n",
       "\n",
       "     is_playoff_caliber  \n",
       "37                    0  \n",
       "446                   0  \n",
       "128                   0  \n",
       "389                   0  \n",
       "403                   0  \n",
       "404                   0  \n",
       "106                   0  \n",
       "110                   1  \n",
       "196                   0  \n",
       "259                   0  \n",
       "298                   0  \n",
       "305                   0  \n",
       "337                   1  \n",
       "347                   0  \n",
       "452                   0  \n",
       "177                   0  "
      ]
     },
     "execution_count": 65,
     "metadata": {},
     "output_type": "execute_result"
    }
   ],
   "source": [
    "print(df[df['team'] == 'MIN'].is_playoff_caliber.value_counts())\n",
    "df[df['team'] == 'MIN']"
   ]
  },
  {
   "cell_type": "markdown",
   "metadata": {},
   "source": [
    "Yikes, not so great! But the findings would support the effectiveness of our model. The last place timbervolves, this year, only have 1 player who would qualify as playoff caliber. This is no surprise as their best player, franchise cornerstone, Karl Anthony Towns has played under half the season. Without your best player, a team is more often than not going to struggle. "
   ]
  },
  {
   "cell_type": "markdown",
   "metadata": {},
   "source": [
    "## Recommendations"
   ]
  },
  {
   "cell_type": "markdown",
   "metadata": {},
   "source": [
    "Since we were approached specifically by the Boston Celtics, let's take a look at their team tier by tier and see how their players measure up from a \"playoff caliber\" classification established by our models. The Celtics have experience a bit of a rocky season to this point, and currently sit 4th in the playoff rankings for the Eastern Conference at a 19-18 record. Let's take a look at how their major players have performed thus far:"
   ]
  },
  {
   "cell_type": "code",
   "execution_count": 66,
   "metadata": {},
   "outputs": [
    {
     "name": "stdout",
     "output_type": "stream",
     "text": [
      "0    3\n",
      "1    1\n",
      "Name: is_playoff_caliber, dtype: int64\n"
     ]
    },
    {
     "data": {
      "text/html": [
       "<div>\n",
       "<style scoped>\n",
       "    .dataframe tbody tr th:only-of-type {\n",
       "        vertical-align: middle;\n",
       "    }\n",
       "\n",
       "    .dataframe tbody tr th {\n",
       "        vertical-align: top;\n",
       "    }\n",
       "\n",
       "    .dataframe thead th {\n",
       "        text-align: right;\n",
       "    }\n",
       "</style>\n",
       "<table border=\"1\" class=\"dataframe\">\n",
       "  <thead>\n",
       "    <tr style=\"text-align: right;\">\n",
       "      <th></th>\n",
       "      <th>name</th>\n",
       "      <th>team</th>\n",
       "      <th>year</th>\n",
       "      <th>games_played</th>\n",
       "      <th>mpg</th>\n",
       "      <th>fg%</th>\n",
       "      <th>3pfg%</th>\n",
       "      <th>rebounds</th>\n",
       "      <th>assists</th>\n",
       "      <th>steals</th>\n",
       "      <th>blocks</th>\n",
       "      <th>points_per_game</th>\n",
       "      <th>position</th>\n",
       "      <th>player_efficiency</th>\n",
       "      <th>true_shooting</th>\n",
       "      <th>plus_minus</th>\n",
       "      <th>win_shares_percentage</th>\n",
       "      <th>is_playoff_caliber</th>\n",
       "    </tr>\n",
       "  </thead>\n",
       "  <tbody>\n",
       "    <tr>\n",
       "      <th>68</th>\n",
       "      <td>Jaylen Brown</td>\n",
       "      <td>BOS</td>\n",
       "      <td>2021</td>\n",
       "      <td>34</td>\n",
       "      <td>34.0</td>\n",
       "      <td>0.485</td>\n",
       "      <td>0.380</td>\n",
       "      <td>5.6</td>\n",
       "      <td>4.0</td>\n",
       "      <td>1.2</td>\n",
       "      <td>0.5</td>\n",
       "      <td>24.4</td>\n",
       "      <td>SG</td>\n",
       "      <td>20.3</td>\n",
       "      <td>0.581</td>\n",
       "      <td>2.8</td>\n",
       "      <td>0.118</td>\n",
       "      <td>0</td>\n",
       "    </tr>\n",
       "    <tr>\n",
       "      <th>420</th>\n",
       "      <td>Marcus Smart</td>\n",
       "      <td>BOS</td>\n",
       "      <td>2021</td>\n",
       "      <td>18</td>\n",
       "      <td>31.7</td>\n",
       "      <td>0.402</td>\n",
       "      <td>0.326</td>\n",
       "      <td>2.7</td>\n",
       "      <td>5.8</td>\n",
       "      <td>1.7</td>\n",
       "      <td>0.6</td>\n",
       "      <td>13.4</td>\n",
       "      <td>PG</td>\n",
       "      <td>15.5</td>\n",
       "      <td>0.535</td>\n",
       "      <td>0.9</td>\n",
       "      <td>0.117</td>\n",
       "      <td>1</td>\n",
       "    </tr>\n",
       "    <tr>\n",
       "      <th>432</th>\n",
       "      <td>Jayson Tatum</td>\n",
       "      <td>BOS</td>\n",
       "      <td>2021</td>\n",
       "      <td>32</td>\n",
       "      <td>35.8</td>\n",
       "      <td>0.442</td>\n",
       "      <td>0.370</td>\n",
       "      <td>7.0</td>\n",
       "      <td>4.4</td>\n",
       "      <td>1.3</td>\n",
       "      <td>0.5</td>\n",
       "      <td>25.1</td>\n",
       "      <td>SF</td>\n",
       "      <td>19.9</td>\n",
       "      <td>0.551</td>\n",
       "      <td>3.1</td>\n",
       "      <td>0.112</td>\n",
       "      <td>0</td>\n",
       "    </tr>\n",
       "    <tr>\n",
       "      <th>460</th>\n",
       "      <td>Kemba Walker</td>\n",
       "      <td>BOS</td>\n",
       "      <td>2021</td>\n",
       "      <td>21</td>\n",
       "      <td>30.2</td>\n",
       "      <td>0.389</td>\n",
       "      <td>0.357</td>\n",
       "      <td>3.6</td>\n",
       "      <td>4.4</td>\n",
       "      <td>1.0</td>\n",
       "      <td>0.4</td>\n",
       "      <td>18.1</td>\n",
       "      <td>PG</td>\n",
       "      <td>16.0</td>\n",
       "      <td>0.528</td>\n",
       "      <td>0.8</td>\n",
       "      <td>0.072</td>\n",
       "      <td>0</td>\n",
       "    </tr>\n",
       "  </tbody>\n",
       "</table>\n",
       "</div>"
      ],
      "text/plain": [
       "             name team  year  games_played   mpg    fg%  3pfg%  rebounds  \\\n",
       "68   Jaylen Brown  BOS  2021            34  34.0  0.485  0.380       5.6   \n",
       "420  Marcus Smart  BOS  2021            18  31.7  0.402  0.326       2.7   \n",
       "432  Jayson Tatum  BOS  2021            32  35.8  0.442  0.370       7.0   \n",
       "460  Kemba Walker  BOS  2021            21  30.2  0.389  0.357       3.6   \n",
       "\n",
       "     assists  steals  blocks  points_per_game position  player_efficiency  \\\n",
       "68       4.0     1.2     0.5             24.4       SG               20.3   \n",
       "420      5.8     1.7     0.6             13.4       PG               15.5   \n",
       "432      4.4     1.3     0.5             25.1       SF               19.9   \n",
       "460      4.4     1.0     0.4             18.1       PG               16.0   \n",
       "\n",
       "     true_shooting  plus_minus  win_shares_percentage  is_playoff_caliber  \n",
       "68           0.581         2.8                  0.118                   0  \n",
       "420          0.535         0.9                  0.117                   1  \n",
       "432          0.551         3.1                  0.112                   0  \n",
       "460          0.528         0.8                  0.072                   0  "
      ]
     },
     "execution_count": 66,
     "metadata": {},
     "output_type": "execute_result"
    }
   ],
   "source": [
    "print(major_players_2021[major_players_2021['team'] == 'BOS'].is_playoff_caliber.value_counts())\n",
    "major_players_2021[major_players_2021['team'] == 'BOS']"
   ]
  },
  {
   "cell_type": "markdown",
   "metadata": {},
   "source": [
    "**Analysis:** On the surface, not a very good result. Of the Celtics Power Four players, only one, Marcus Smart, is viewed as a playoff caliber player at the halfway mark. For any avid Celtics fan, this may not come as the biggest surprise as the Celtics have experienced a myriad of woes in the early goings ranging from untimely injuries to just disappointing close losses. While all four of these players have had terrific seasons in the past and certainly possess a lot of potential it is no secret that the Celtics season to date has been a disappointing one. Fairly recently their GM and Director of Operations, Danny Ainge, had this to say about his ballclub:\n",
    "\n",
    "https://985thesportshub.com/2021/02/18/danny-ainge-says-celtics-do-not-have-a-championship-roster/\n",
    "\n",
    "As we've highlighted throughout the report, these less than desirable records and their blame typically fall at the feet of your stars (major players). \n",
    "\n",
    "**Recommendations:** This may go against the intuition of my own model, but I don't suggest seeking a trade or a change from any of these current players. While they may have underperformed over the course of the first half of the season, I believe there are enough underlying factors to contradict what the model is suggesting. In the case of Kemba Walker, he is coming off knee surgery so has been struggling to find his rhythm, but his play has been trending upwards lately and is returning to his former playoff caliber self. But again, it's not surprise to see that the Celtics GM reportedly was shopping Kemba around this season:\n",
    "\n",
    "https://www.masslive.com/celtics/2021/02/kemba-walker-trade-rumors-celtics-tried-like-hell-to-trade-guard-danny-ainge-knew-knee-wasnt-right-report.html\n",
    "\n",
    "https://www.espn.com/nba/story/_/id/30984749/why-jayson-tatum-jaylen-brown-enough-boston-celtics-season\n",
    "\n",
    "Jayson Tatum and Jaylen Brown both nothced their 2nd and 1st All Star appearances (respectively) so despite a lackluster 1st half, possess enough potential and talent to turn it around. These two are newly annointed franchise players at the absurdly young age of 23 & 24 years old and along with their recently inked large contracts would be reason enough to continue to give them a chance. It may not be this season, but hopefully the scouting pays off and they establish themselves well past \"playoff caliber.\"\n",
    "\n",
    "https://www.celticsblog.com/2021/3/11/22321297/the-evolution-of-jayson-tatums-shot-making-ability-boston-celtics-nba\n"
   ]
  },
  {
   "cell_type": "code",
   "execution_count": 67,
   "metadata": {},
   "outputs": [
    {
     "name": "stdout",
     "output_type": "stream",
     "text": [
      "0    2\n",
      "1    1\n",
      "Name: is_playoff_caliber, dtype: int64\n"
     ]
    },
    {
     "data": {
      "text/html": [
       "<div>\n",
       "<style scoped>\n",
       "    .dataframe tbody tr th:only-of-type {\n",
       "        vertical-align: middle;\n",
       "    }\n",
       "\n",
       "    .dataframe tbody tr th {\n",
       "        vertical-align: top;\n",
       "    }\n",
       "\n",
       "    .dataframe thead th {\n",
       "        text-align: right;\n",
       "    }\n",
       "</style>\n",
       "<table border=\"1\" class=\"dataframe\">\n",
       "  <thead>\n",
       "    <tr style=\"text-align: right;\">\n",
       "      <th></th>\n",
       "      <th>name</th>\n",
       "      <th>team</th>\n",
       "      <th>year</th>\n",
       "      <th>games_played</th>\n",
       "      <th>mpg</th>\n",
       "      <th>fg%</th>\n",
       "      <th>3pfg%</th>\n",
       "      <th>rebounds</th>\n",
       "      <th>assists</th>\n",
       "      <th>steals</th>\n",
       "      <th>blocks</th>\n",
       "      <th>points_per_game</th>\n",
       "      <th>position</th>\n",
       "      <th>player_efficiency</th>\n",
       "      <th>true_shooting</th>\n",
       "      <th>plus_minus</th>\n",
       "      <th>win_shares_percentage</th>\n",
       "      <th>is_playoff_caliber</th>\n",
       "    </tr>\n",
       "  </thead>\n",
       "  <tbody>\n",
       "    <tr>\n",
       "      <th>381</th>\n",
       "      <td>Payton Pritchard</td>\n",
       "      <td>BOS</td>\n",
       "      <td>2021</td>\n",
       "      <td>31</td>\n",
       "      <td>21.1</td>\n",
       "      <td>0.451</td>\n",
       "      <td>0.400</td>\n",
       "      <td>2.3</td>\n",
       "      <td>2.3</td>\n",
       "      <td>0.6</td>\n",
       "      <td>0.2</td>\n",
       "      <td>7.5</td>\n",
       "      <td>SG</td>\n",
       "      <td>11.1</td>\n",
       "      <td>0.580</td>\n",
       "      <td>-2.1</td>\n",
       "      <td>0.074</td>\n",
       "      <td>0</td>\n",
       "    </tr>\n",
       "    <tr>\n",
       "      <th>436</th>\n",
       "      <td>Daniel Theis</td>\n",
       "      <td>BOS</td>\n",
       "      <td>2021</td>\n",
       "      <td>35</td>\n",
       "      <td>24.4</td>\n",
       "      <td>0.570</td>\n",
       "      <td>0.368</td>\n",
       "      <td>5.1</td>\n",
       "      <td>1.3</td>\n",
       "      <td>0.7</td>\n",
       "      <td>1.1</td>\n",
       "      <td>9.5</td>\n",
       "      <td>C</td>\n",
       "      <td>15.5</td>\n",
       "      <td>0.645</td>\n",
       "      <td>0.3</td>\n",
       "      <td>0.137</td>\n",
       "      <td>1</td>\n",
       "    </tr>\n",
       "    <tr>\n",
       "      <th>439</th>\n",
       "      <td>Tristan Thompson</td>\n",
       "      <td>BOS</td>\n",
       "      <td>2021</td>\n",
       "      <td>35</td>\n",
       "      <td>22.7</td>\n",
       "      <td>0.535</td>\n",
       "      <td>0.000</td>\n",
       "      <td>8.3</td>\n",
       "      <td>1.0</td>\n",
       "      <td>0.3</td>\n",
       "      <td>0.4</td>\n",
       "      <td>7.9</td>\n",
       "      <td>PF</td>\n",
       "      <td>15.5</td>\n",
       "      <td>0.556</td>\n",
       "      <td>-2.2</td>\n",
       "      <td>0.120</td>\n",
       "      <td>0</td>\n",
       "    </tr>\n",
       "  </tbody>\n",
       "</table>\n",
       "</div>"
      ],
      "text/plain": [
       "                 name team  year  games_played   mpg    fg%  3pfg%  rebounds  \\\n",
       "381  Payton Pritchard  BOS  2021            31  21.1  0.451  0.400       2.3   \n",
       "436      Daniel Theis  BOS  2021            35  24.4  0.570  0.368       5.1   \n",
       "439  Tristan Thompson  BOS  2021            35  22.7  0.535  0.000       8.3   \n",
       "\n",
       "     assists  steals  blocks  points_per_game position  player_efficiency  \\\n",
       "381      2.3     0.6     0.2              7.5       SG               11.1   \n",
       "436      1.3     0.7     1.1              9.5        C               15.5   \n",
       "439      1.0     0.3     0.4              7.9       PF               15.5   \n",
       "\n",
       "     true_shooting  plus_minus  win_shares_percentage  is_playoff_caliber  \n",
       "381          0.580        -2.1                  0.074                   0  \n",
       "436          0.645         0.3                  0.137                   1  \n",
       "439          0.556        -2.2                  0.120                   0  "
      ]
     },
     "execution_count": 67,
     "metadata": {},
     "output_type": "execute_result"
    }
   ],
   "source": [
    "print(core_players_2021[core_players_2021['team'] == 'BOS'].is_playoff_caliber.value_counts())\n",
    "core_players_2021[core_players_2021['team'] == 'BOS']"
   ]
  },
  {
   "cell_type": "markdown",
   "metadata": {},
   "source": [
    "**Analysis:** Again, not what you would want to see from you main core players. While it is nice to see Daniel Theis earning his playoff caliber stripes, who has been playing quite well of late, you would like to see more production of players like Tristan Thompson. Albeit he may impact the game from a non-box score standpoint, does pose as an interesting potential to trade and provide upgrades to the PF position. \n",
    "\n",
    "**Recommendation:** Payton Pritchard, a rookie, has been a bright spot for the Celtics this year provided often needed hustle and timely shooting. While he doesn't notch a playoff caliber classification, he is shooting a healthy 40% from beyond the arc, which if we recall from our clustering via EDA, 3 point shooting has become a major focal point of the modern game. His shooting paired with simply being a rookie, I recommend keeping him but would certainly field any offers from teams if the Celtics are looking to make a much needed upgrade to their core group. \n",
    "\n",
    "Theis, the only playoff caliber of the bunch might make the most sense if the Celtics are looking to make a trade. Theis is a Center who can stretch the floor and shoot a high percentage from beyond the arc, the only question is his trade value. For a team looking to inject some shooting paired with size, Daniel and the Celtics could make a great trading partner."
   ]
  },
  {
   "cell_type": "code",
   "execution_count": 68,
   "metadata": {},
   "outputs": [
    {
     "name": "stdout",
     "output_type": "stream",
     "text": [
      "0    4\n",
      "1    3\n",
      "Name: is_playoff_caliber, dtype: int64\n"
     ]
    },
    {
     "data": {
      "text/html": [
       "<div>\n",
       "<style scoped>\n",
       "    .dataframe tbody tr th:only-of-type {\n",
       "        vertical-align: middle;\n",
       "    }\n",
       "\n",
       "    .dataframe tbody tr th {\n",
       "        vertical-align: top;\n",
       "    }\n",
       "\n",
       "    .dataframe thead th {\n",
       "        text-align: right;\n",
       "    }\n",
       "</style>\n",
       "<table border=\"1\" class=\"dataframe\">\n",
       "  <thead>\n",
       "    <tr style=\"text-align: right;\">\n",
       "      <th></th>\n",
       "      <th>name</th>\n",
       "      <th>team</th>\n",
       "      <th>year</th>\n",
       "      <th>games_played</th>\n",
       "      <th>mpg</th>\n",
       "      <th>fg%</th>\n",
       "      <th>3pfg%</th>\n",
       "      <th>rebounds</th>\n",
       "      <th>assists</th>\n",
       "      <th>steals</th>\n",
       "      <th>blocks</th>\n",
       "      <th>points_per_game</th>\n",
       "      <th>position</th>\n",
       "      <th>player_efficiency</th>\n",
       "      <th>true_shooting</th>\n",
       "      <th>plus_minus</th>\n",
       "      <th>win_shares_percentage</th>\n",
       "      <th>is_playoff_caliber</th>\n",
       "    </tr>\n",
       "  </thead>\n",
       "  <tbody>\n",
       "    <tr>\n",
       "      <th>129</th>\n",
       "      <td>Carsen Edwards</td>\n",
       "      <td>BOS</td>\n",
       "      <td>2021</td>\n",
       "      <td>14</td>\n",
       "      <td>10.5</td>\n",
       "      <td>0.460</td>\n",
       "      <td>0.324</td>\n",
       "      <td>1.0</td>\n",
       "      <td>0.4</td>\n",
       "      <td>0.3</td>\n",
       "      <td>0.1</td>\n",
       "      <td>5.4</td>\n",
       "      <td>SG</td>\n",
       "      <td>13.6</td>\n",
       "      <td>0.568</td>\n",
       "      <td>-3.4</td>\n",
       "      <td>0.101</td>\n",
       "      <td>1</td>\n",
       "    </tr>\n",
       "    <tr>\n",
       "      <th>171</th>\n",
       "      <td>Javonte Green</td>\n",
       "      <td>BOS</td>\n",
       "      <td>2021</td>\n",
       "      <td>22</td>\n",
       "      <td>15.0</td>\n",
       "      <td>0.549</td>\n",
       "      <td>0.318</td>\n",
       "      <td>2.3</td>\n",
       "      <td>0.5</td>\n",
       "      <td>0.8</td>\n",
       "      <td>0.1</td>\n",
       "      <td>4.8</td>\n",
       "      <td>SG</td>\n",
       "      <td>12.7</td>\n",
       "      <td>0.624</td>\n",
       "      <td>-0.4</td>\n",
       "      <td>0.109</td>\n",
       "      <td>0</td>\n",
       "    </tr>\n",
       "    <tr>\n",
       "      <th>332</th>\n",
       "      <td>Aaron Nesmith</td>\n",
       "      <td>BOS</td>\n",
       "      <td>2021</td>\n",
       "      <td>18</td>\n",
       "      <td>15.6</td>\n",
       "      <td>0.397</td>\n",
       "      <td>0.354</td>\n",
       "      <td>2.4</td>\n",
       "      <td>0.4</td>\n",
       "      <td>0.2</td>\n",
       "      <td>0.3</td>\n",
       "      <td>4.2</td>\n",
       "      <td>SF</td>\n",
       "      <td>6.2</td>\n",
       "      <td>0.549</td>\n",
       "      <td>-4.7</td>\n",
       "      <td>0.033</td>\n",
       "      <td>0</td>\n",
       "    </tr>\n",
       "    <tr>\n",
       "      <th>344</th>\n",
       "      <td>Semi Ojeleye</td>\n",
       "      <td>BOS</td>\n",
       "      <td>2021</td>\n",
       "      <td>34</td>\n",
       "      <td>19.0</td>\n",
       "      <td>0.417</td>\n",
       "      <td>0.383</td>\n",
       "      <td>2.9</td>\n",
       "      <td>0.8</td>\n",
       "      <td>0.3</td>\n",
       "      <td>0.0</td>\n",
       "      <td>5.5</td>\n",
       "      <td>PF</td>\n",
       "      <td>9.0</td>\n",
       "      <td>0.572</td>\n",
       "      <td>-2.1</td>\n",
       "      <td>0.072</td>\n",
       "      <td>1</td>\n",
       "    </tr>\n",
       "    <tr>\n",
       "      <th>433</th>\n",
       "      <td>Jeff Teague</td>\n",
       "      <td>BOS</td>\n",
       "      <td>2021</td>\n",
       "      <td>29</td>\n",
       "      <td>18.0</td>\n",
       "      <td>0.377</td>\n",
       "      <td>0.435</td>\n",
       "      <td>1.6</td>\n",
       "      <td>2.1</td>\n",
       "      <td>0.8</td>\n",
       "      <td>0.2</td>\n",
       "      <td>6.4</td>\n",
       "      <td>PG</td>\n",
       "      <td>10.2</td>\n",
       "      <td>0.509</td>\n",
       "      <td>-3.3</td>\n",
       "      <td>0.037</td>\n",
       "      <td>0</td>\n",
       "    </tr>\n",
       "    <tr>\n",
       "      <th>476</th>\n",
       "      <td>Grant Williams</td>\n",
       "      <td>BOS</td>\n",
       "      <td>2021</td>\n",
       "      <td>29</td>\n",
       "      <td>18.4</td>\n",
       "      <td>0.462</td>\n",
       "      <td>0.419</td>\n",
       "      <td>3.0</td>\n",
       "      <td>0.9</td>\n",
       "      <td>0.5</td>\n",
       "      <td>0.4</td>\n",
       "      <td>5.1</td>\n",
       "      <td>PF</td>\n",
       "      <td>8.3</td>\n",
       "      <td>0.574</td>\n",
       "      <td>-3.8</td>\n",
       "      <td>0.053</td>\n",
       "      <td>0</td>\n",
       "    </tr>\n",
       "    <tr>\n",
       "      <th>480</th>\n",
       "      <td>Robert Williams</td>\n",
       "      <td>BOS</td>\n",
       "      <td>2021</td>\n",
       "      <td>30</td>\n",
       "      <td>16.1</td>\n",
       "      <td>0.706</td>\n",
       "      <td>0.000</td>\n",
       "      <td>5.8</td>\n",
       "      <td>1.2</td>\n",
       "      <td>0.9</td>\n",
       "      <td>1.6</td>\n",
       "      <td>6.8</td>\n",
       "      <td>C</td>\n",
       "      <td>25.7</td>\n",
       "      <td>0.709</td>\n",
       "      <td>5.6</td>\n",
       "      <td>0.244</td>\n",
       "      <td>1</td>\n",
       "    </tr>\n",
       "  </tbody>\n",
       "</table>\n",
       "</div>"
      ],
      "text/plain": [
       "                name team  year  games_played   mpg    fg%  3pfg%  rebounds  \\\n",
       "129   Carsen Edwards  BOS  2021            14  10.5  0.460  0.324       1.0   \n",
       "171    Javonte Green  BOS  2021            22  15.0  0.549  0.318       2.3   \n",
       "332    Aaron Nesmith  BOS  2021            18  15.6  0.397  0.354       2.4   \n",
       "344     Semi Ojeleye  BOS  2021            34  19.0  0.417  0.383       2.9   \n",
       "433      Jeff Teague  BOS  2021            29  18.0  0.377  0.435       1.6   \n",
       "476   Grant Williams  BOS  2021            29  18.4  0.462  0.419       3.0   \n",
       "480  Robert Williams  BOS  2021            30  16.1  0.706  0.000       5.8   \n",
       "\n",
       "     assists  steals  blocks  points_per_game position  player_efficiency  \\\n",
       "129      0.4     0.3     0.1              5.4       SG               13.6   \n",
       "171      0.5     0.8     0.1              4.8       SG               12.7   \n",
       "332      0.4     0.2     0.3              4.2       SF                6.2   \n",
       "344      0.8     0.3     0.0              5.5       PF                9.0   \n",
       "433      2.1     0.8     0.2              6.4       PG               10.2   \n",
       "476      0.9     0.5     0.4              5.1       PF                8.3   \n",
       "480      1.2     0.9     1.6              6.8        C               25.7   \n",
       "\n",
       "     true_shooting  plus_minus  win_shares_percentage  is_playoff_caliber  \n",
       "129          0.568        -3.4                  0.101                   1  \n",
       "171          0.624        -0.4                  0.109                   0  \n",
       "332          0.549        -4.7                  0.033                   0  \n",
       "344          0.572        -2.1                  0.072                   1  \n",
       "433          0.509        -3.3                  0.037                   0  \n",
       "476          0.574        -3.8                  0.053                   0  \n",
       "480          0.709         5.6                  0.244                   1  "
      ]
     },
     "execution_count": 68,
     "metadata": {},
     "output_type": "execute_result"
    }
   ],
   "source": [
    "print(rotational_players_2021[rotational_players_2021['team'] == 'BOS'].is_playoff_caliber.value_counts())\n",
    "rotational_players_2021[rotational_players_2021['team'] == 'BOS']"
   ]
  },
  {
   "cell_type": "markdown",
   "metadata": {},
   "source": [
    "**Analysis:** Continuing the disappointing trend, the Celtics rotational players trend in a non playoff caliber direction. But a bright to spot to note is that as I have rerun my model from earlier this week until now (with updated stats), Robert Williams went from non playoff caliber to playoff caliber. This would make sense for anybody who has been watching him recently and can see how much of an impact he has been making to the roster. He's playing efficiently and at a higher clip after earning Coach Steven's trust.\n",
    "\n",
    "**Recommendation:** Improvements can clearly be made in the depth department, so I would suggest exploring trades for any of these players with the exception of Robert Williams (despite being non caliber through my model). Again just another highlight of how it's important to leverage the model instead of solely relying on it to make our decisions. "
   ]
  },
  {
   "cell_type": "code",
   "execution_count": 69,
   "metadata": {},
   "outputs": [
    {
     "name": "stdout",
     "output_type": "stream",
     "text": [
      "1    2\n",
      "Name: is_playoff_caliber, dtype: int64\n"
     ]
    },
    {
     "data": {
      "text/html": [
       "<div>\n",
       "<style scoped>\n",
       "    .dataframe tbody tr th:only-of-type {\n",
       "        vertical-align: middle;\n",
       "    }\n",
       "\n",
       "    .dataframe tbody tr th {\n",
       "        vertical-align: top;\n",
       "    }\n",
       "\n",
       "    .dataframe thead th {\n",
       "        text-align: right;\n",
       "    }\n",
       "</style>\n",
       "<table border=\"1\" class=\"dataframe\">\n",
       "  <thead>\n",
       "    <tr style=\"text-align: right;\">\n",
       "      <th></th>\n",
       "      <th>name</th>\n",
       "      <th>team</th>\n",
       "      <th>year</th>\n",
       "      <th>games_played</th>\n",
       "      <th>mpg</th>\n",
       "      <th>fg%</th>\n",
       "      <th>3pfg%</th>\n",
       "      <th>rebounds</th>\n",
       "      <th>assists</th>\n",
       "      <th>steals</th>\n",
       "      <th>blocks</th>\n",
       "      <th>points_per_game</th>\n",
       "      <th>position</th>\n",
       "      <th>player_efficiency</th>\n",
       "      <th>true_shooting</th>\n",
       "      <th>plus_minus</th>\n",
       "      <th>win_shares_percentage</th>\n",
       "      <th>is_playoff_caliber</th>\n",
       "    </tr>\n",
       "  </thead>\n",
       "  <tbody>\n",
       "    <tr>\n",
       "      <th>136</th>\n",
       "      <td>Tacko Fall</td>\n",
       "      <td>BOS</td>\n",
       "      <td>2021</td>\n",
       "      <td>8</td>\n",
       "      <td>7.1</td>\n",
       "      <td>0.692</td>\n",
       "      <td>0.0</td>\n",
       "      <td>2.6</td>\n",
       "      <td>0.1</td>\n",
       "      <td>0.0</td>\n",
       "      <td>1.3</td>\n",
       "      <td>2.6</td>\n",
       "      <td>C</td>\n",
       "      <td>22.4</td>\n",
       "      <td>0.636</td>\n",
       "      <td>2.4</td>\n",
       "      <td>0.218</td>\n",
       "      <td>1</td>\n",
       "    </tr>\n",
       "    <tr>\n",
       "      <th>467</th>\n",
       "      <td>Tremont Waters</td>\n",
       "      <td>BOS</td>\n",
       "      <td>2021</td>\n",
       "      <td>10</td>\n",
       "      <td>9.8</td>\n",
       "      <td>0.323</td>\n",
       "      <td>0.4</td>\n",
       "      <td>0.8</td>\n",
       "      <td>3.0</td>\n",
       "      <td>0.6</td>\n",
       "      <td>0.0</td>\n",
       "      <td>3.3</td>\n",
       "      <td>PG</td>\n",
       "      <td>11.7</td>\n",
       "      <td>0.478</td>\n",
       "      <td>-1.3</td>\n",
       "      <td>0.019</td>\n",
       "      <td>1</td>\n",
       "    </tr>\n",
       "  </tbody>\n",
       "</table>\n",
       "</div>"
      ],
      "text/plain": [
       "               name team  year  games_played  mpg    fg%  3pfg%  rebounds  \\\n",
       "136      Tacko Fall  BOS  2021             8  7.1  0.692    0.0       2.6   \n",
       "467  Tremont Waters  BOS  2021            10  9.8  0.323    0.4       0.8   \n",
       "\n",
       "     assists  steals  blocks  points_per_game position  player_efficiency  \\\n",
       "136      0.1     0.0     1.3              2.6        C               22.4   \n",
       "467      3.0     0.6     0.0              3.3       PG               11.7   \n",
       "\n",
       "     true_shooting  plus_minus  win_shares_percentage  is_playoff_caliber  \n",
       "136          0.636         2.4                  0.218                   1  \n",
       "467          0.478        -1.3                  0.019                   1  "
      ]
     },
     "execution_count": 69,
     "metadata": {},
     "output_type": "execute_result"
    }
   ],
   "source": [
    "print(reserve_players_2021[reserve_players_2021['team'] == 'BOS'].is_playoff_caliber.value_counts())\n",
    "reserve_players_2021[reserve_players_2021['team'] == 'BOS']"
   ]
  },
  {
   "cell_type": "markdown",
   "metadata": {},
   "source": [
    "**Analysis:** It's nice to see fan favorite Tacko Fall make his way as a playoff caliber reserve player. Tacko doesn't play all to often, but at his size 7'5\" he is always a treat to play. It also seems that when he does get an opportunity he is rather efficient, generating a 22.4 player efficiency score. Although, he is usually playing against fellow reserves, so be mindful to not get overly excited.\n",
    "\n",
    "**Recommendations:** Keep these two players, Tacko Fall is a fan icon! "
   ]
  },
  {
   "cell_type": "markdown",
   "metadata": {},
   "source": [
    "### Next Steps Closing Remarks"
   ]
  },
  {
   "cell_type": "markdown",
   "metadata": {},
   "source": [
    "I would like to perform the same style of modeling but take it a step further, either by modeling based on the most recent decade to see if my accuracy can improve at all, and as well take a look at modeling further by position. I think that with more cuts and contextualizing (so comparing star Shooting Guards to other star Shooting Guards) we will be able to get better results and really highlight a player's performance in respect to the other players in his tier across the league. \n",
    "\n",
    "As we've noted throughout the project, basketball is still a team game. So while the model does a solid job at measuring individual impact and contributions made towards winning, those contributions can be held back if the elite player is surrounded by sub par players. So it is important to note that the model is imperfect and that NBA talent scouts should consider their jobs relatively safe. As we've detailed through my analysis, use this model as a tool to evaluate how players have performed thus far, but pair that with domain knowledge in order to make appropriate recommendations. \n",
    "\n",
    "For the Celtics, while they have potential to make moves to better their team, I don't think it is likely. As shown in the article above, the GM doesn't think they are poised to make a deep run in playoffs and considering my model shows that the majority of their playoffs aren't deemed playoff caliber, I agree. So while I recommend exploring trade options, I think the best plan of attack would be to finish the season out and hope for a turnaround in performance by their main 3 stars Tatum, Brown, and Walker. Looks like GM Danny Ainge agrees:\n",
    "\n",
    "https://nesn.com/2021/03/boston-celtics-trade-rumors-danny-ainge-tpe/"
   ]
  },
  {
   "cell_type": "code",
   "execution_count": null,
   "metadata": {},
   "outputs": [],
   "source": []
  }
 ],
 "metadata": {
  "kernelspec": {
   "display_name": "Python 3",
   "language": "python",
   "name": "python3"
  },
  "language_info": {
   "codemirror_mode": {
    "name": "ipython",
    "version": 3
   },
   "file_extension": ".py",
   "mimetype": "text/x-python",
   "name": "python",
   "nbconvert_exporter": "python",
   "pygments_lexer": "ipython3",
   "version": "3.8.5"
  }
 },
 "nbformat": 4,
 "nbformat_minor": 4
}
